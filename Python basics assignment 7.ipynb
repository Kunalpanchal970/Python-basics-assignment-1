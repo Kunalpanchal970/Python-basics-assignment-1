{
 "cells": [
  {
   "cell_type": "markdown",
   "id": "ba04d80a",
   "metadata": {},
   "source": [
    "### 1. What is the name of the feature responsible for generating Regex objects?"
   ]
  },
  {
   "cell_type": "markdown",
   "id": "a6d64d24",
   "metadata": {},
   "source": [
    "Ans. The feature responsible for generating Regex objects is the 're' module in Python."
   ]
  },
  {
   "cell_type": "markdown",
   "id": "93e81c80",
   "metadata": {},
   "source": [
    "### 2. Why do raw strings often appear in Regex objects?"
   ]
  },
  {
   "cell_type": "markdown",
   "id": "e47f0ab8",
   "metadata": {},
   "source": [
    "Ans. Raw strings are used to avoid escaping backslashes in regex patterns. In raw strings, backslashes are treated as literal characters."
   ]
  },
  {
   "cell_type": "markdown",
   "id": "ff935a7e",
   "metadata": {},
   "source": [
    "### 3. What is the return value of the search() method?"
   ]
  },
  {
   "cell_type": "markdown",
   "id": "a46f6c80",
   "metadata": {},
   "source": [
    "Ans. The search() method returns a 'Match' object if the pattern is found in the string; otherwise, it returns 'None'."
   ]
  },
  {
   "cell_type": "markdown",
   "id": "b4e185f3",
   "metadata": {},
   "source": [
    "### 4. From a Match item, how do you get the actual strings that match the pattern?"
   ]
  },
  {
   "cell_type": "markdown",
   "id": "1973b86b",
   "metadata": {},
   "source": [
    "Ans. We can use the '.group()' method on the Match object to get the actual strings that match the pattern."
   ]
  },
  {
   "cell_type": "markdown",
   "id": "ab258bd0",
   "metadata": {},
   "source": [
    "### 5. In the regex which created from the r&#39;(\\d\\d\\d)-(\\d\\d\\d-\\d\\d\\d\\d)&#39;, what does group zero cover? Group 2? Group 1?"
   ]
  },
  {
   "cell_type": "markdown",
   "id": "8c4720fb",
   "metadata": {},
   "source": [
    "Ans. Group 0 covers the entire match, Group 1 covers the first set of digits (\\d\\d\\d), and Group 2 covers the second set (\\d\\d\\d-\\d\\d\\d\\d)."
   ]
  },
  {
   "cell_type": "markdown",
   "id": "010fbaf8",
   "metadata": {},
   "source": [
    "### 6. In standard expression syntax, parentheses and intervals have distinct meanings. How can you tell a regex that you want it to fit real parentheses and periods?"
   ]
  },
  {
   "cell_type": "markdown",
   "id": "1279cbbc",
   "metadata": {},
   "source": [
    "Ans. To match literal parentheses and periods in regex, you need to escape them with a backslash: \\(, \\), \\."
   ]
  },
  {
   "cell_type": "markdown",
   "id": "75f55cb8",
   "metadata": {},
   "source": [
    "### 7. The findall() method returns a string list or a list of string tuples. What causes it to return one of the two options?"
   ]
  },
  {
   "cell_type": "markdown",
   "id": "8cc5b1a4",
   "metadata": {},
   "source": [
    "Ans. The findall() method returns a list of strings if the regex has no groups, but it returns a list of tuples if the regex has groups."
   ]
  },
  {
   "cell_type": "markdown",
   "id": "4ec44718",
   "metadata": {},
   "source": [
    "### 8. In standard expressions, what does the | character mean?"
   ]
  },
  {
   "cell_type": "markdown",
   "id": "ae682e16",
   "metadata": {},
   "source": [
    "Ans. The | character is used as an OR operator, meaning it matches patterns on either side of it."
   ]
  },
  {
   "cell_type": "markdown",
   "id": "5405385c",
   "metadata": {},
   "source": [
    "### 9. In regular expressions, what does the ? character stand for?"
   ]
  },
  {
   "cell_type": "markdown",
   "id": "472bbf54",
   "metadata": {},
   "source": [
    "Ans. The ? character matches 0 or 1 occurrence of the preceding element, making it optional.\n",
    " "
   ]
  },
  {
   "cell_type": "markdown",
   "id": "53a6c4b6",
   "metadata": {},
   "source": [
    "### 10.In regular expressions, what is the difference between the + and * characters?"
   ]
  },
  {
   "cell_type": "markdown",
   "id": "2126a7aa",
   "metadata": {},
   "source": [
    "Ans. The + character matches one or more occurrences of the preceding element, while * matches zero or more occurrences."
   ]
  },
  {
   "cell_type": "markdown",
   "id": "874754eb",
   "metadata": {},
   "source": [
    "### 11. What is the difference between {4} and {4,5} in regular expression?"
   ]
  },
  {
   "cell_type": "markdown",
   "id": "fc9d4a87",
   "metadata": {},
   "source": [
    "Ans. `{4}` matches exactly 4 occurrences of the preceding element, while `{4,5}` matches between 4 and 5 occurrences."
   ]
  },
  {
   "cell_type": "markdown",
   "id": "f19e83c4",
   "metadata": {},
   "source": [
    "### 12. What do you mean by the \\d, \\w, and \\s shorthand character classes signify in regular expressions?"
   ]
  },
  {
   "cell_type": "markdown",
   "id": "1183e70d",
   "metadata": {},
   "source": [
    "Ans. `\\d` matches any digit, \\w matches any word character (letters, digits, and underscore), and \\s matches any whitespace character."
   ]
  },
  {
   "cell_type": "markdown",
   "id": "9be17a48",
   "metadata": {},
   "source": [
    "### 13. What do means by \\D, \\W, and \\S shorthand character classes signify in regular expressions?"
   ]
  },
  {
   "cell_type": "markdown",
   "id": "c5fa0115",
   "metadata": {},
   "source": [
    "Ans. \\D matches any non-digit character, \\W matches any non-word character, and \\S matches any non-whitespace character."
   ]
  },
  {
   "cell_type": "markdown",
   "id": "cf71e927",
   "metadata": {},
   "source": [
    "### 14. What is the difference between .*? and .*?"
   ]
  },
  {
   "cell_type": "markdown",
   "id": "83ff2c79",
   "metadata": {},
   "source": [
    "Ans. .*? is a non-greedy match that matches as few characters as possible, while .* is a greedy match that matches as many characters as possible.\n"
   ]
  },
  {
   "cell_type": "markdown",
   "id": "bacc7ac6",
   "metadata": {},
   "source": [
    "### 15. What is the syntax for matching both numbers and lowercase letters with a character class?"
   ]
  },
  {
   "cell_type": "markdown",
   "id": "050ebf1b",
   "metadata": {},
   "source": [
    "Ans. The syntax is [a-z0-9]."
   ]
  },
  {
   "cell_type": "markdown",
   "id": "7b34df39",
   "metadata": {},
   "source": [
    "### 16. What is the procedure for making a normal expression in regax case insensitive?"
   ]
  },
  {
   "cell_type": "markdown",
   "id": "71cbd3c4",
   "metadata": {},
   "source": [
    "Ans. You can make a regex case-insensitive by passing re.IGNORECASE or re.I as the second argument to re.compile()."
   ]
  },
  {
   "cell_type": "markdown",
   "id": "554afe79",
   "metadata": {},
   "source": [
    "### 17. What does the . character normally match? What does it match if re.DOTALL is passed as 2nd argument in re.compile()?"
   ]
  },
  {
   "cell_type": "markdown",
   "id": "c92836b0",
   "metadata": {},
   "source": [
    "Ans. Normally, the '.' character matches any character except a newline. If 're.DOTALL' is passed, it matches any character, including a newline.\n"
   ]
  },
  {
   "cell_type": "markdown",
   "id": "fa3c01e9",
   "metadata": {},
   "source": [
    "### 18. If numReg = re.compile(r&#39;\\d+&#39;), what will numRegex.sub(&#39;X&#39;, &#39;11 drummers, 10 pipers, five rings, 4 hen&#39;) return?"
   ]
  },
  {
   "cell_type": "markdown",
   "id": "eafc1940",
   "metadata": {},
   "source": [
    "Ans. It will return 'X drummers X pipers five rings X hen'."
   ]
  },
  {
   "cell_type": "markdown",
   "id": "5debae72",
   "metadata": {},
   "source": [
    "### 19. What does passing re.VERBOSE as the 2nd argument to re.compile() allow to do?"
   ]
  },
  {
   "cell_type": "markdown",
   "id": "5ab955df",
   "metadata": {},
   "source": [
    "Ans. Passing 're.VERBOSE' allows you to write more readable regex patterns by ignoring whitespace and adding comments."
   ]
  },
  {
   "cell_type": "markdown",
   "id": "cf2e0e12",
   "metadata": {},
   "source": [
    "### 20. How would you write a regex that match a number with comma for every three digits? It must match the given following:\n",
    "&#39;42&#39;\n",
    "&#39;1,234&#39;\n",
    "&#39;6,368,745&#39;\n",
    "\n",
    "but not the following:\n",
    "\n",
    "&#39;12,34,567&#39; (which has only two digits between the commas)\n",
    "&#39;1234&#39; (which lacks commas)"
   ]
  },
  {
   "cell_type": "markdown",
   "id": "8a635081",
   "metadata": {},
   "source": [
    "Ans. The regex pattern would be: \n",
    "\n",
    "r'^\\d{1,3}(,\\d{3})*$'."
   ]
  },
  {
   "cell_type": "markdown",
   "id": "d3b3fe4d",
   "metadata": {},
   "source": [
    "### 21. How would you write a regex that matches the full name of someone whose last name is Watanabe? You can assume that the first name that comes before it will always be one word that begins with a capital letter. The regex must match the following:\n",
    "&#39;Haruto Watanabe&#39;\n",
    "&#39;Alice Watanabe&#39;\n",
    "&#39;RoboCop Watanabe&#39;\n",
    "\n",
    "but not the following:\n",
    "\n",
    "&#39;haruto Watanabe&#39; (where the first name is not capitalized)\n",
    "&#39;Mr. Watanabe&#39; (where the preceding word has a nonletter character)\n",
    "&#39;Watanabe&#39; (which has no first name)\n",
    "&#39;Haruto watanabe&#39; (where Watanabe is not capitalized)"
   ]
  },
  {
   "cell_type": "markdown",
   "id": "f9dc97e2",
   "metadata": {},
   "source": [
    "Ans. The regex patern would be: \n",
    "\n",
    "    ^[A-Z][a-zA-Z]*\\sWatanabe$\n"
   ]
  },
  {
   "cell_type": "markdown",
   "id": "b2c747b6",
   "metadata": {},
   "source": [
    "### 22. How would you write a regex that matches a sentence where the first word is either Alice, Bob, or Carol; the second word is either eats, pets, or throws; the third word is apples, cats, or baseballs; and the sentence ends with a period? This regex should be case-insensitive. It must match the following:\n",
    "&#39;Alice eats apples.&#39;\n",
    "&#39;Bob pets cats.&#39;\n",
    "&#39;Carol throws baseballs.&#39;\n",
    "&#39;Alice throws Apples.&#39;\n",
    "&#39;BOB EATS CATS.&#39;\n",
    "\n",
    "but not the following:\n",
    "\n",
    "&#39;RoboCop eats apples.&#39;\n",
    "&#39;ALICE THROWS FOOTBALLS.&#39;\n",
    "&#39;Carol eats 7 cats.&#39;"
   ]
  },
  {
   "cell_type": "markdown",
   "id": "2b34d1fd",
   "metadata": {},
   "source": [
    "Ans. The regex pattern would be:\n",
    "\n",
    "^(Alice|Bob|Carol)\\s(eats|pets|throws)\\s(apples|cats|baseballs)\\.$\n"
   ]
  }
 ],
 "metadata": {
  "kernelspec": {
   "display_name": "Python 3 (ipykernel)",
   "language": "python",
   "name": "python3"
  },
  "language_info": {
   "codemirror_mode": {
    "name": "ipython",
    "version": 3
   },
   "file_extension": ".py",
   "mimetype": "text/x-python",
   "name": "python",
   "nbconvert_exporter": "python",
   "pygments_lexer": "ipython3",
   "version": "3.11.5"
  }
 },
 "nbformat": 4,
 "nbformat_minor": 5
}
