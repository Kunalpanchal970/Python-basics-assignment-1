{
 "cells": [
  {
   "cell_type": "markdown",
   "id": "3274d1f2",
   "metadata": {},
   "source": [
    "## Q1. What does an empty dictionary&#39;s code look like?"
   ]
  },
  {
   "cell_type": "code",
   "execution_count": 8,
   "id": "8704c541",
   "metadata": {},
   "outputs": [],
   "source": [
    "# Empty dictionary's code looks like - \n",
    "empty_dict = {}"
   ]
  },
  {
   "cell_type": "code",
   "execution_count": 9,
   "id": "089b96cd",
   "metadata": {},
   "outputs": [
    {
     "data": {
      "text/plain": [
       "{}"
      ]
     },
     "execution_count": 9,
     "metadata": {},
     "output_type": "execute_result"
    }
   ],
   "source": [
    "empty_dict"
   ]
  },
  {
   "cell_type": "markdown",
   "id": "a8e055cf",
   "metadata": {},
   "source": [
    "## Q2. What is the value of a dictionary value with the key &#39;foo&#39; and the value 42?"
   ]
  },
  {
   "cell_type": "code",
   "execution_count": 12,
   "id": "1ca48f9d",
   "metadata": {},
   "outputs": [
    {
     "name": "stdout",
     "output_type": "stream",
     "text": [
      "42\n"
     ]
    }
   ],
   "source": [
    "my_dict = {'foo': 42}\n",
    "value = my_dict['foo']\n",
    "print(value)\n"
   ]
  },
  {
   "cell_type": "markdown",
   "id": "db335ac3",
   "metadata": {},
   "source": [
    "## Q3. What is the most significant distinction between a dictionary and a list?"
   ]
  },
  {
   "cell_type": "markdown",
   "id": "63790143",
   "metadata": {},
   "source": [
    "Ans. Dictionaries are used for mapping keys to values and provide efficient lookups based on keys, while lists are used for storing ordered collections of elements and provide access based on indices."
   ]
  },
  {
   "cell_type": "markdown",
   "id": "cb3b24d0",
   "metadata": {},
   "source": [
    "## Q4. What happens if you try to access spam[&#39;foo&#39;] if spam is {&#39;bar&#39;: 100}?"
   ]
  },
  {
   "cell_type": "markdown",
   "id": "2d8f8818",
   "metadata": {},
   "source": [
    "Ans. If you try to access spam['foo'] where spam is {'bar': 100}, you will get a KeyError because the key 'foo' does not exist in the dictionary spam. "
   ]
  },
  {
   "cell_type": "code",
   "execution_count": 14,
   "id": "6edcfb39",
   "metadata": {},
   "outputs": [
    {
     "ename": "KeyError",
     "evalue": "'foo'",
     "output_type": "error",
     "traceback": [
      "\u001b[1;31m---------------------------------------------------------------------------\u001b[0m",
      "\u001b[1;31mKeyError\u001b[0m                                  Traceback (most recent call last)",
      "Input \u001b[1;32mIn [14]\u001b[0m, in \u001b[0;36m<cell line: 2>\u001b[1;34m()\u001b[0m\n\u001b[0;32m      1\u001b[0m spam \u001b[38;5;241m=\u001b[39m {\u001b[38;5;124m'\u001b[39m\u001b[38;5;124mbar\u001b[39m\u001b[38;5;124m'\u001b[39m: \u001b[38;5;241m100\u001b[39m}\n\u001b[1;32m----> 2\u001b[0m \u001b[43mspam\u001b[49m\u001b[43m[\u001b[49m\u001b[38;5;124;43m\"\u001b[39;49m\u001b[38;5;124;43mfoo\u001b[39;49m\u001b[38;5;124;43m\"\u001b[39;49m\u001b[43m]\u001b[49m\n",
      "\u001b[1;31mKeyError\u001b[0m: 'foo'"
     ]
    }
   ],
   "source": [
    "spam = {'bar': 100}\n",
    "spam[\"foo\"]"
   ]
  },
  {
   "cell_type": "markdown",
   "id": "4e0ab97b",
   "metadata": {},
   "source": [
    "## Q5. If a dictionary is stored in spam, what is the difference between the expressions 'cat' in spam and 'cat' in spam.keys()?"
   ]
  },
  {
   "cell_type": "markdown",
   "id": "40d02212",
   "metadata": {},
   "source": [
    "### 'cat' in spam:\n",
    "\n",
    "This expression checks if the key 'cat' exists in the dictionary spam.\n",
    "\n",
    "If 'cat' is a key in spam, it will return True.\n",
    "\n",
    "If 'cat' is not a key in spam, it will return False.\n",
    "\n",
    "\n",
    "### 'cat' in spam.keys():\n",
    "\n",
    "This expression first retrieves all the keys from the dictionary spam using the keys() method and then checks if 'cat' exists in that list of keys.\n",
    "\n",
    "If 'cat' is a key in spam, it will return True.\n",
    "\n",
    "If 'cat' is not a key in spam, it will return False."
   ]
  },
  {
   "cell_type": "markdown",
   "id": "1a5b15d1",
   "metadata": {},
   "source": [
    "## Q6. If a dictionary is stored in spam, what is the difference between the expressions 'cat' in spam and 'cat' in spam.values()?"
   ]
  },
  {
   "cell_type": "markdown",
   "id": "ea360f3e",
   "metadata": {},
   "source": [
    "### 'cat' in spam:\n",
    "\n",
    "This expression checks if the string 'cat' exists as a key in the dictionary spam.\n",
    "\n",
    "If 'cat' is a key in spam, it will return True.\n",
    "\n",
    "If 'cat' is not a key in spam, it will return False.\n",
    "\n",
    "### 'cat' in spam.values():\n",
    "\n",
    "This expression checks if the string 'cat' exists as a value in the dictionary spam.\n",
    "\n",
    "If 'cat' is a value in any of the key-value pairs in spam, it will return True.\n",
    "\n",
    "If 'cat' is not a value in any of the key-value pairs in spam, it will return False."
   ]
  },
  {
   "cell_type": "markdown",
   "id": "a88db84c",
   "metadata": {},
   "source": [
    "## Q7. What is a shortcut for the following code?\n",
    "if 'color' not in spam:\n",
    "\n",
    "spam['color'] = 'black'"
   ]
  },
  {
   "cell_type": "markdown",
   "id": "953e851a",
   "metadata": {},
   "source": [
    "#### Shortcut for this code is \n",
    "\n",
    "spam.setdefault('color', 'black')\n"
   ]
  },
  {
   "cell_type": "markdown",
   "id": "a0ad1de5",
   "metadata": {},
   "source": [
    "## Q8. How do you \"pretty print\" dictionary values using which module and function?"
   ]
  },
  {
   "cell_type": "markdown",
   "id": "1c508141",
   "metadata": {},
   "source": [
    "Ans. We can \"pretty print\" dictionary values in Python using the 'json' module's 'json.dumps()' function with the 'indent' parameter."
   ]
  },
  {
   "cell_type": "code",
   "execution_count": 28,
   "id": "683700fc",
   "metadata": {},
   "outputs": [
    {
     "name": "stdout",
     "output_type": "stream",
     "text": [
      "{\n",
      "    \"name\": \"kunal\",\n",
      "    \"age\": 24,\n",
      "    \"city\": \"Delhi\"\n",
      "}\n"
     ]
    }
   ],
   "source": [
    "#example \n",
    "import json\n",
    "\n",
    "# Your dictionary\n",
    "my_dict = {\n",
    "    \"name\": \"kunal\",\n",
    "    \"age\": 24,\n",
    "    \"city\": \"Delhi\"\n",
    "}\n",
    "\n",
    "# Pretty print the dictionary\n",
    "pretty_json = json.dumps(my_dict, indent=4)\n",
    "\n",
    "# Print the formatted JSON string\n",
    "print(pretty_json)\n"
   ]
  }
 ],
 "metadata": {
  "kernelspec": {
   "display_name": "Python 3 (ipykernel)",
   "language": "python",
   "name": "python3"
  },
  "language_info": {
   "codemirror_mode": {
    "name": "ipython",
    "version": 3
   },
   "file_extension": ".py",
   "mimetype": "text/x-python",
   "name": "python",
   "nbconvert_exporter": "python",
   "pygments_lexer": "ipython3",
   "version": "3.9.12"
  }
 },
 "nbformat": 4,
 "nbformat_minor": 5
}
