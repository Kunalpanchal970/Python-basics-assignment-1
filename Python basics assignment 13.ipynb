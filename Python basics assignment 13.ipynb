{
 "cells": [
  {
   "cell_type": "markdown",
   "id": "3cd38ae1",
   "metadata": {},
   "source": [
    "## 1. What advantages do Excel spreadsheets have over CSV spreadsheets?"
   ]
  },
  {
   "cell_type": "markdown",
   "id": "14ea0585",
   "metadata": {},
   "source": [
    "Ans. \n",
    "The Advantages of Excel over CSV are: Excel (XLS and XLSX) file formats are better for storing and analysing complex data. An Excel not only stores data but can also do operations on the data using macros, formulas etc. CSV files are plain-text files, Does not contain formatting, formulas, macros, etc. It is also known as flat files."
   ]
  },
  {
   "cell_type": "markdown",
   "id": "01f5c94b",
   "metadata": {},
   "source": [
    "## 2. What do you pass to csv.reader() and csv.writer() to create reader and writer objects?"
   ]
  },
  {
   "cell_type": "code",
   "execution_count": 2,
   "id": "51a8958b",
   "metadata": {},
   "outputs": [],
   "source": [
    "import csv"
   ]
  },
  {
   "cell_type": "markdown",
   "id": "6c0b007c",
   "metadata": {},
   "source": [
    "Ans. In csv.reader() we pass file and dialect. In csv.writer() we pass fileobj and dialect."
   ]
  },
  {
   "cell_type": "markdown",
   "id": "8a6555b0",
   "metadata": {},
   "source": [
    "## 3. What modes do File objects for reader and writer objects need to be opened in?"
   ]
  },
  {
   "cell_type": "markdown",
   "id": "4e126193",
   "metadata": {},
   "source": [
    "Ans. \n",
    "\n",
    "in reader object we open file in read mode 'r'\n",
    "\n",
    "in writer object we open file in write mode 'w'."
   ]
  },
  {
   "cell_type": "markdown",
   "id": "6d53bc58",
   "metadata": {},
   "source": [
    "## 4. What method takes a list argument and writes it to a CSV file?"
   ]
  },
  {
   "cell_type": "markdown",
   "id": "1afa981e",
   "metadata": {},
   "source": [
    "Ans. use writerow() method for list argument in csv file."
   ]
  },
  {
   "cell_type": "code",
   "execution_count": 3,
   "id": "a6173fb5",
   "metadata": {},
   "outputs": [
    {
     "data": {
      "text/plain": [
       "19"
      ]
     },
     "execution_count": 3,
     "metadata": {},
     "output_type": "execute_result"
    }
   ],
   "source": [
    "opFile = open('output.csv','w')\n",
    "opWriter = csv.writer(opFile)\n",
    "csv.writer(opFile).writerow(['guava','apple','mango'])"
   ]
  },
  {
   "cell_type": "markdown",
   "id": "9b56f02b",
   "metadata": {},
   "source": [
    "## 5. What do the keyword arguments delimiter and line terminator do?\n"
   ]
  },
  {
   "cell_type": "markdown",
   "id": "79403995",
   "metadata": {},
   "source": [
    "Ans. \n",
    "\n",
    "The delimiter argument changes the string used to separate cells in a row. \n",
    "\n",
    "The lineterminator argument changes the string used to separate rows."
   ]
  },
  {
   "cell_type": "code",
   "execution_count": 4,
   "id": "e48ca5e2",
   "metadata": {},
   "outputs": [],
   "source": [
    "import csv\n",
    "csvFile = open('example.tsv', 'w', newline='')\n",
    "csvWriter = csv.writer(csvFile, delimiter='\\t', lineterminator='\\n\\n')"
   ]
  },
  {
   "cell_type": "markdown",
   "id": "c9782eb5",
   "metadata": {},
   "source": [
    "## 6. What function takes a string of JSON data and returns a Python data structure?"
   ]
  },
  {
   "cell_type": "markdown",
   "id": "94dbbdf6",
   "metadata": {},
   "source": [
    "json.loads()"
   ]
  },
  {
   "cell_type": "markdown",
   "id": "fd703f56",
   "metadata": {},
   "source": [
    "## 7. What function takes a Python data structure and returns a string of JSON data?"
   ]
  },
  {
   "cell_type": "code",
   "execution_count": null,
   "id": "c6d05e72",
   "metadata": {},
   "outputs": [],
   "source": [
    "json.dumps()"
   ]
  }
 ],
 "metadata": {
  "kernelspec": {
   "display_name": "Python 3 (ipykernel)",
   "language": "python",
   "name": "python3"
  },
  "language_info": {
   "codemirror_mode": {
    "name": "ipython",
    "version": 3
   },
   "file_extension": ".py",
   "mimetype": "text/x-python",
   "name": "python",
   "nbconvert_exporter": "python",
   "pygments_lexer": "ipython3",
   "version": "3.12.4"
  }
 },
 "nbformat": 4,
 "nbformat_minor": 5
}
