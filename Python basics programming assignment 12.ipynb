{
 "cells": [
  {
   "cell_type": "markdown",
   "id": "f8acbd11",
   "metadata": {},
   "source": [
    "## 1. Write a Python program to Extract Unique values dictionary values?"
   ]
  },
  {
   "cell_type": "code",
   "execution_count": 18,
   "id": "ff594b7d",
   "metadata": {},
   "outputs": [
    {
     "name": "stdout",
     "output_type": "stream",
     "text": [
      "unique value from dictionry values are: {1, 2, 5, 6, 7, 8, 10, 11, 12}\n"
     ]
    }
   ],
   "source": [
    "test_dict = {'A' : [5, 6, 7, 8],\n",
    "             'B' : [10, 11, 7, 5],\n",
    "             'C' : [6, 12, 10, 8],\n",
    "             'D' : [1, 2, 5,8]}\n",
    "\n",
    "lstSet = set([ele for val in test_dict.values() for ele in val])\n",
    "print(\"unique value from dictionry values are: {}\".format(lstSet))\n",
    "        "
   ]
  },
  {
   "cell_type": "markdown",
   "id": "2b3337d8",
   "metadata": {},
   "source": [
    "## 2. Write a Python program to find the sum of all items in a dictionary?\n"
   ]
  },
  {
   "cell_type": "code",
   "execution_count": 20,
   "id": "a002770a",
   "metadata": {},
   "outputs": [
    {
     "name": "stdout",
     "output_type": "stream",
     "text": [
      "Sum of All items:  300\n"
     ]
    }
   ],
   "source": [
    "dict = {'A':10,'M':20,'B':30,'G':40,'P':200}\n",
    "print('Sum of All items: ',sum(dict.values()))"
   ]
  },
  {
   "cell_type": "markdown",
   "id": "ddaba80d",
   "metadata": {},
   "source": [
    "## 3. Write a Python program to Merging two Dictionaries?"
   ]
  },
  {
   "cell_type": "code",
   "execution_count": 23,
   "id": "ab9ef4d3",
   "metadata": {},
   "outputs": [
    {
     "name": "stdout",
     "output_type": "stream",
     "text": [
      "{'cousre_name': 'Ineuron', 'course_instructors': ['Sudhanshu Kumar', 'Krish Naik', 'sunny savita']}\n"
     ]
    }
   ],
   "source": [
    "mergingTwoDict = {\n",
    "    'cousre_name':'Ineuron'\n",
    "}\n",
    "instructors = {\n",
    "    'course_instructors':['Sudhanshu Kumar','Krish Naik', 'sunny savita']\n",
    "}\n",
    "mergingTwoDict .update(instructors)\n",
    "print(mergingTwoDict )"
   ]
  },
  {
   "cell_type": "markdown",
   "id": "babe2d22",
   "metadata": {},
   "source": [
    "## 4. Write a Python program to convert key-values list to flat dictionary?"
   ]
  },
  {
   "cell_type": "code",
   "execution_count": 4,
   "id": "b6f66a4c",
   "metadata": {},
   "outputs": [
    {
     "name": "stdout",
     "output_type": "stream",
     "text": [
      "{'A': 10, 'B': 20, 'C': 30, 'D': 40, 'E': 50, 'F': 60, 'G': 70, 'H': 80, 'I': 90, 'J': 100}\n"
     ]
    }
   ],
   "source": [
    "list = [('A',10),('B',20),('C',30),('D',40),('E',50),('F',60),('G',70),('H',80),('I',90),('J',100)]\n",
    "\n",
    "# Method #1\n",
    "dict(list)\n",
    "\n",
    "# Method #2\n",
    "out_dict = {}\n",
    "for ele in list:\n",
    "    out_dict[ele[0]] = ele[1]\n",
    "print(out_dict)"
   ]
  },
  {
   "cell_type": "markdown",
   "id": "7a614ba7",
   "metadata": {},
   "source": [
    "## 5. Write a Python program to insertion at the beginning in OrderedDict?"
   ]
  },
  {
   "cell_type": "code",
   "execution_count": 13,
   "id": "2237f78f",
   "metadata": {},
   "outputs": [
    {
     "name": "stdout",
     "output_type": "stream",
     "text": [
      "dict_1 OrderedDict([('Apple', 'Iphone'), ('Ineuron', 'Techneuron')])\n",
      "dict_1 OrderedDict([('Apple', 'Iphone'), ('Ineuron', 'Techneuron'), ('shudhanshu', 'krish')])\n",
      "dict_1 OrderedDict([('shudhanshu', 'krish'), ('Apple', 'Iphone'), ('Ineuron', 'Techneuron')])\n"
     ]
    }
   ],
   "source": [
    "from collections import OrderedDict\n",
    "dict_1 = OrderedDict({'Apple':'Iphone','Ineuron':'Techneuron'})\n",
    "print('dict_1',dict_1)\n",
    "insert = {'shudhanshu':'krish'}\n",
    "dict_1.update(insert)\n",
    "print('dict_1',dict_1)\n",
    "dict_1.move_to_end('shudhanshu',last=False)\n",
    "print('dict_1',dict_1)"
   ]
  },
  {
   "cell_type": "markdown",
   "id": "b89f964a",
   "metadata": {},
   "source": [
    "## 6. Write a Python program to check order of character in string using OrderedDict()?"
   ]
  },
  {
   "cell_type": "code",
   "execution_count": 14,
   "id": "661a1004",
   "metadata": {},
   "outputs": [
    {
     "name": "stdout",
     "output_type": "stream",
     "text": [
      "{'a': 1000, 'f': 200, 'd': 300, 'c': 400, 'b': 500, 'e': 600}\n",
      "OrderedDict([('a', 1000), ('b', 500), ('c', 400), ('d', 300), ('e', 600), ('f', 200)])\n"
     ]
    }
   ],
   "source": [
    "from collections import OrderedDict\n",
    "\n",
    "initial_list = {'a': 1000, 'f': 200, 'd': 300, 'c': 400, 'b': 500, 'e': 600}\n",
    "print(initial_list)\n",
    "\n",
    "final_list = OrderedDict(dict(sorted(initial_list.items())))\n",
    "print(final_list)"
   ]
  },
  {
   "cell_type": "markdown",
   "id": "37fb5e77",
   "metadata": {},
   "source": [
    "## 7. Write a Python program to sort Python Dictionaries by Key or Value?"
   ]
  },
  {
   "cell_type": "code",
   "execution_count": 24,
   "id": "09f73136",
   "metadata": {},
   "outputs": [
    {
     "name": "stdout",
     "output_type": "stream",
     "text": [
      "{'A': 100, 'B': 22, 'C': 60, 'D': 13}\n",
      "{'D': 13, 'B': 22, 'C': 60, 'A': 100}\n"
     ]
    }
   ],
   "source": [
    "d_items = {'A':100,'B':22,'C':60,'D':13}\n",
    "\n",
    "def sort_dict(in_dict,sort_type):\n",
    "    if sort_type == 'key':\n",
    "        print(dict(sorted(in_dict.items(), key=lambda x:x[0], reverse=False)))\n",
    "    else:\n",
    "        print(dict(sorted(in_dict.items(), key=lambda x:x[1], reverse=False)))\n",
    "        \n",
    "sort_dict(d_items,'key')        \n",
    "sort_dict(d_items,'value')"
   ]
  },
  {
   "cell_type": "code",
   "execution_count": 18,
   "id": "a8c8cc46",
   "metadata": {},
   "outputs": [
    {
     "name": "stdout",
     "output_type": "stream",
     "text": [
      "['A', 'B', 'C', 'D']\n",
      "[('A', 100), ('B', 22), ('C', 60), ('D', 13)]\n"
     ]
    }
   ],
   "source": [
    "a = {'A':100,'B':22,'C':60,'D':13}\n",
    "\n",
    "print(sorted(a.keys()))\n",
    "print(sorted(a.items()))"
   ]
  },
  {
   "cell_type": "code",
   "execution_count": null,
   "id": "6332fac6",
   "metadata": {},
   "outputs": [],
   "source": []
  },
  {
   "cell_type": "code",
   "execution_count": 19,
   "id": "4c828b47",
   "metadata": {},
   "outputs": [
    {
     "name": "stdout",
     "output_type": "stream",
     "text": [
      "[1, 2, 3, 4, 5, 6]\n",
      "[(1, 2), (2, 1), (3, 4), (4, 3), (5, 6), (6, 5)]\n"
     ]
    }
   ],
   "source": [
    "a = {1:2 ,2:1 ,4:3 ,3:4 ,6:5 ,5:6 }\n",
    "print(sorted(a.keys()))\n",
    "print(sorted(a.items()))"
   ]
  },
  {
   "cell_type": "code",
   "execution_count": null,
   "id": "6d2c4222",
   "metadata": {},
   "outputs": [],
   "source": []
  }
 ],
 "metadata": {
  "kernelspec": {
   "display_name": "Python 3 (ipykernel)",
   "language": "python",
   "name": "python3"
  },
  "language_info": {
   "codemirror_mode": {
    "name": "ipython",
    "version": 3
   },
   "file_extension": ".py",
   "mimetype": "text/x-python",
   "name": "python",
   "nbconvert_exporter": "python",
   "pygments_lexer": "ipython3",
   "version": "3.12.4"
  }
 },
 "nbformat": 4,
 "nbformat_minor": 5
}
