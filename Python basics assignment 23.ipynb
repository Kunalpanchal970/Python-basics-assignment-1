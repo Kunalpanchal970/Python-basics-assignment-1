{
 "cells": [
  {
   "cell_type": "markdown",
   "id": "2adaf0e1",
   "metadata": {},
   "source": [
    "## 1. What is the result of the code, and why?\n",
    "<i> >>> def func(a, b=6, c=8):<i/>\n",
    "    \n",
    "print(a, b, c)\n",
    "    \n",
    "<i> >>> func(1, 2)<i/>\n"
   ]
  },
  {
   "cell_type": "code",
   "execution_count": 1,
   "id": "c6835b55",
   "metadata": {},
   "outputs": [
    {
     "name": "stdout",
     "output_type": "stream",
     "text": [
      "1 2 8\n"
     ]
    }
   ],
   "source": [
    "def func(a, b=6, c=8):\n",
    "    print(a, b, c)\n",
    "func(1, 2)\n"
   ]
  },
  {
   "cell_type": "markdown",
   "id": "69285858-dfdd-4b4e-beb8-ed54088afe23",
   "metadata": {},
   "source": [
    "Ans. This funtion is taking a positional argument and 2 keyword argument. When function call m=is made, parameter passed are a=1,b=2. When the function is executed , parameter c=8 will be taken by default as its a keyword argument.\\n    \n",
    "\n",
    "Result is = 1 2 8"
   ]
  },
  {
   "cell_type": "markdown",
   "id": "e0d8dd36",
   "metadata": {},
   "source": [
    "## 2. What is the result of this code, and why?\n",
    "\n",
    "<isinstance> >>> def func(a, b, c=5):<i/>\n",
    "    \n",
    "print(a, b, c)\n",
    "\n",
    "<i> >>> func(1, c=3, b=2)<i/>\n"
   ]
  },
  {
   "cell_type": "code",
   "execution_count": 2,
   "id": "eab62291",
   "metadata": {},
   "outputs": [
    {
     "name": "stdout",
     "output_type": "stream",
     "text": [
      "1 2 3\n"
     ]
    }
   ],
   "source": [
    "def func(a,b,c=5):\n",
    "    print(a,b,c)\n",
    "func(1,c=3,b=2)\n"
   ]
  },
  {
   "cell_type": "markdown",
   "id": "c9812b2e-2e9b-43f8-910a-b7dde010c4d0",
   "metadata": {},
   "source": [
    "Ans. Result = 1 2 3 \n",
    "\n",
    "The result of the above code is 1 2 3.It is because the function will use default values only when a value for a argument is not provided and if the argument name is mentioned while doing a function call, the order of arguments is also ignored by the python interpreter."
   ]
  },
  {
   "cell_type": "markdown",
   "id": "821812cc",
   "metadata": {},
   "source": [
    "## 3. How about this code: what is its result, and why?\n",
    "<i> >>> def func(a, *pargs):<i/>\n",
    "    \n",
    "print(a, pargs)\n",
    "    \n",
    "<i> >>> func(1, 2, 3)<i/>\n"
   ]
  },
  {
   "cell_type": "code",
   "execution_count": 3,
   "id": "85fa8234",
   "metadata": {},
   "outputs": [
    {
     "name": "stdout",
     "output_type": "stream",
     "text": [
      "1 (2, 3)\n"
     ]
    }
   ],
   "source": [
    "def func(a,*pargs):\n",
    "    print(a,pargs)\n",
    "func(1,2,3)\n"
   ]
  },
  {
   "cell_type": "markdown",
   "id": "5fa9d034-955f-4e4c-84ff-7877e1f4d397",
   "metadata": {},
   "source": [
    "Ans. Result = 1 (2, 3)\n",
    "\n",
    "*pargs stands for variable length arguments. This format is used when we are not sure about the number of arguments to be passed to a function. All the values under this argument will be stored in a tuple."
   ]
  },
  {
   "cell_type": "markdown",
   "id": "95ee6c12",
   "metadata": {},
   "source": [
    "## 4. What does this code print, and why?\n",
    "\n",
    "<i> >>> def func(a, **kargs):<i/>\n",
    "    \n",
    "print(a, kargs)\n",
    "\n",
    "<i> >>> func(a=1, c=3, b=2)<i/>\n"
   ]
  },
  {
   "cell_type": "code",
   "execution_count": 4,
   "id": "2fc0558f",
   "metadata": {},
   "outputs": [
    {
     "name": "stdout",
     "output_type": "stream",
     "text": [
      "1 {'c': 3, 'b': 2}\n"
     ]
    }
   ],
   "source": [
    "def func(a, **kargs):\n",
    "    print(a, kargs)\n",
    "func(a=1, c=3, b=2)  \n"
   ]
  },
  {
   "cell_type": "markdown",
   "id": "fa403e12-5a7a-4517-9801-0f57870e2c89",
   "metadata": {},
   "source": [
    "Ans. The result of the above code is 1 {'c': 3, 'b': 2}. \n",
    "\n",
    "**kargs stands for variable length keyword arguments. This format is used when we want pass key value pairs as input to a function. All these key value pairs will be stored in a dictionary."
   ]
  },
  {
   "cell_type": "markdown",
   "id": "46cf22a5",
   "metadata": {},
   "source": [
    "## 5. What gets printed by this, and explain?\n",
    "<i> >>> def func(a, b, c=8, d=5):<i/>\n",
    "    \n",
    "    print(a, b, c, d)\n",
    "    \n",
    "<i> >>> func(1, *(5, 6))<i/>\n"
   ]
  },
  {
   "cell_type": "code",
   "execution_count": 5,
   "id": "92e9135b",
   "metadata": {},
   "outputs": [
    {
     "name": "stdout",
     "output_type": "stream",
     "text": [
      "1 5 6 5\n"
     ]
    }
   ],
   "source": [
    "def func(a,b,c=8,d=5):\n",
    "    print(a,b,c,d)\n",
    "func(1,*(5,6))\n"
   ]
  },
  {
   "cell_type": "markdown",
   "id": "ea85b1f5-7fd0-4478-87f0-1ddd1cb811a5",
   "metadata": {},
   "source": [
    "Ans. The output of the above is 1 5 6 5. \n",
    "\n",
    "The reason for this function not throwing an error is because, this function expects 4 arguments. The value for a is provided explicitly whereas for arguments b and c, the function will expand *(5,6) and consider the value of b as 5 and value of c as 6. Since the default value of d is provided in function declaration, d value will be 5. However it is recommended to use the feature of positional arguments at the end."
   ]
  },
  {
   "cell_type": "markdown",
   "id": "84230631",
   "metadata": {},
   "source": [
    "## 6. what is the result of this, and explain?\n",
    "<i> >>> def func(a, b, c):<i/>\n",
    "    \n",
    "    a = 2; b[0] = 'x'; c['a'] = 'y'\n",
    "    \n",
    "<i> >>> l=1; m=[1]; n={'a':0}<i/>\n",
    "\n",
    "<i> >>> func(l, m, n)<i/>\n",
    "\n",
    "<i> >>> l, m, n<i/>\n"
   ]
  },
  {
   "cell_type": "code",
   "execution_count": 6,
   "id": "dc9c6478",
   "metadata": {},
   "outputs": [
    {
     "data": {
      "text/plain": [
       "(1, ['x'], {'a': 'y'})"
      ]
     },
     "execution_count": 6,
     "metadata": {},
     "output_type": "execute_result"
    }
   ],
   "source": [
    "def func(a, b, c): \n",
    "    a = 2; b[0] = 'x'; c['a'] = 'y'\n",
    "    \n",
    "l=1; m=[1]; n={'a':0}\n",
    "func(l, m, n)\n",
    "\n",
    "l, m, n\n"
   ]
  },
  {
   "cell_type": "markdown",
   "id": "279318ea-d53d-44f4-809e-7c915caa0f82",
   "metadata": {},
   "source": [
    "Ans. Output = output (1,['x'],{'a':'y'})\n",
    "\n",
    "Here in the code, the list and dict are passed as argument, and those are mutable. Here the list l and parameter b point to the same list in the memory location where as dict n and c point to the same memory location. Any updates to this list will update in the memory locationl = 1 , integer values, immutable, m is list, mutable, n is dict, mutable. "
   ]
  }
 ],
 "metadata": {
  "kernelspec": {
   "display_name": "Python 3 (ipykernel)",
   "language": "python",
   "name": "python3"
  },
  "language_info": {
   "codemirror_mode": {
    "name": "ipython",
    "version": 3
   },
   "file_extension": ".py",
   "mimetype": "text/x-python",
   "name": "python",
   "nbconvert_exporter": "python",
   "pygments_lexer": "ipython3",
   "version": "3.12.4"
  }
 },
 "nbformat": 4,
 "nbformat_minor": 5
}
