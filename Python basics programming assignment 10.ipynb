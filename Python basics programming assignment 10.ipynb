{
 "cells": [
  {
   "cell_type": "markdown",
   "id": "711a961d",
   "metadata": {},
   "source": [
    "## 1. Write a Python program to find sum of elements in list?"
   ]
  },
  {
   "cell_type": "code",
   "execution_count": 2,
   "id": "40207273",
   "metadata": {},
   "outputs": [
    {
     "name": "stdout",
     "output_type": "stream",
     "text": [
      "Enter the No of Entries in a List: 5\n",
      "1\n",
      "2\n",
      "3\n",
      "4\n",
      "5\n",
      "Enter a element  [1, 2, 3, 4, 5]\n",
      "Sum of elements 15\n"
     ]
    }
   ],
   "source": [
    "#1stSolution\n",
    "\n",
    "n = int(input(\"Enter the No of Entries in a List: \"))\n",
    "lst = []\n",
    "l = lst\n",
    "\n",
    "for i in range(n):\n",
    "    lst.append(int(input()))\n",
    "print(\"Enter a element \",lst)\n",
    "print(\"Sum of elements\",sum(l))"
   ]
  },
  {
   "cell_type": "code",
   "execution_count": 3,
   "id": "6b6572f0",
   "metadata": {},
   "outputs": [
    {
     "name": "stdout",
     "output_type": "stream",
     "text": [
      "Enter the No of Entries in a List: 5\n",
      "Enter a element: 1\n",
      "Enter a element: 2\n",
      "Enter a element: 3\n",
      "Enter a element: 4\n",
      "Enter a element: 5\n",
      "Sum of Elements: 15\n"
     ]
    }
   ],
   "source": [
    "#2ndSolution\n",
    "\n",
    "def sumofList():\n",
    "    size = int(input('Enter the No of Entries in a List: '))\n",
    "    list = []\n",
    "    for itr in range(size):\n",
    "        list.append(int(input('Enter a element: ')))\n",
    "    print(f'Sum of Elements: {sum(list)}')\n",
    "\n",
    "sumofList()"
   ]
  },
  {
   "cell_type": "markdown",
   "id": "7f1febf1",
   "metadata": {},
   "source": [
    "### 2. Write a Python program to  Multiply all numbers in the list?"
   ]
  },
  {
   "cell_type": "code",
   "execution_count": 4,
   "id": "94153235",
   "metadata": {},
   "outputs": [
    {
     "name": "stdout",
     "output_type": "stream",
     "text": [
      "Enter the No of Entries in a List: 5\n",
      "Enter a element: 1\n",
      "Enter a element: 2\n",
      "Enter a element: 3\n",
      "Enter a element: 4\n",
      "Enter a element: 5\n",
      "120\n"
     ]
    }
   ],
   "source": [
    "def mulofList():\n",
    "    size = int(input('Enter the No of Entries in a List: '))\n",
    "    list = []\n",
    "    mul = 1\n",
    "    for itr in range(size):\n",
    "        list.append(int(input('Enter a element: ')))\n",
    "    for size in list:\n",
    "        mul = mul * size\n",
    "    print(mul)\n",
    "\n",
    "mulofList()"
   ]
  },
  {
   "cell_type": "markdown",
   "id": "5a7c1b97",
   "metadata": {},
   "source": [
    "## 3. Write a Python program to find smallest number in a list?"
   ]
  },
  {
   "cell_type": "code",
   "execution_count": 5,
   "id": "39904444",
   "metadata": {},
   "outputs": [
    {
     "name": "stdout",
     "output_type": "stream",
     "text": [
      "Enter the No of elements in a list: 5\n",
      "Enter a Element: 1\n",
      "Enter a Element: 2\n",
      "Enter a Element: 3\n",
      "Enter a Element: 4\n",
      "Enter a Element: 5\n",
      "The Smallest Element in [1, 2, 3, 4, 5] = 1\n"
     ]
    }
   ],
   "source": [
    "def smallElementInList():\n",
    "    size = int(input('Enter the No of elements in a list: '))\n",
    "    list = []\n",
    "    for i in range(size):\n",
    "        list.append(int(input('Enter a Element: ')))\n",
    "    print(f'The Smallest Element in {list} = {sorted(list)[0]}')\n",
    "smallElementInList()"
   ]
  },
  {
   "cell_type": "markdown",
   "id": "cdd17ba4",
   "metadata": {},
   "source": [
    "## 4. Write a Python program to find largest number in a list?"
   ]
  },
  {
   "cell_type": "code",
   "execution_count": 6,
   "id": "68063514",
   "metadata": {},
   "outputs": [
    {
     "name": "stdout",
     "output_type": "stream",
     "text": [
      "Enter the No of elements in a list: 5\n",
      "Enter a Element: 1\n",
      "Enter a Element: 2\n",
      "Enter a Element: 3\n",
      "Enter a Element: 4\n",
      "Enter a Element: 5\n",
      "The Largest Element in [1, 2, 3, 4, 5] = 5\n"
     ]
    }
   ],
   "source": [
    "def largestElementInList():\n",
    "    size = int(input('Enter the No of elements in a list: '))\n",
    "    list = []\n",
    "    for i in range(size):\n",
    "        list.append(int(input('Enter a Element: ')))\n",
    "    print(f'The Largest Element in {list} = {sorted(list, reverse=True)[0]}')\n",
    "largestElementInList()"
   ]
  },
  {
   "cell_type": "markdown",
   "id": "f771d429",
   "metadata": {},
   "source": [
    "## 5. Write a Python program to find second largest number in a list?"
   ]
  },
  {
   "cell_type": "code",
   "execution_count": 7,
   "id": "b41f5ebd",
   "metadata": {},
   "outputs": [
    {
     "name": "stdout",
     "output_type": "stream",
     "text": [
      "Enter the No of elements in a list: 5\n",
      "Enter a Element: 1\n",
      "Enter a Element: 2\n",
      "Enter a Element: 3\n",
      "Enter a Element: 4\n",
      "Enter a Element: 5\n",
      "The Largest Element in [1, 2, 3, 4, 5] = 4\n"
     ]
    }
   ],
   "source": [
    "def secondLargestElementInList():\n",
    "    size = int(input('Enter the No of elements in a list: '))\n",
    "    list = []\n",
    "    for i in range(size):\n",
    "        list.append(int(input('Enter a Element: ')))\n",
    "    print(f'The Largest Element in {list} = {sorted(list, reverse=True)[1]}')\n",
    "secondLargestElementInList()\n"
   ]
  },
  {
   "cell_type": "markdown",
   "id": "cdedbf40",
   "metadata": {},
   "source": [
    "## 6. Write a Python program to find N largest elements from a list?"
   ]
  },
  {
   "cell_type": "code",
   "execution_count": 8,
   "id": "6cda7bf1",
   "metadata": {},
   "outputs": [
    {
     "name": "stdout",
     "output_type": "stream",
     "text": [
      "Enter the No of elements in a list: 5\n",
      "Enter a Element: 1\n",
      "Enter a Element: 2\n",
      "Enter a Element: 3\n",
      "Enter a Element: 4\n",
      "Enter a Element: 5\n",
      "The 2 Largest Element in [1, 2, 3, 4, 5] = [5, 4]\n"
     ]
    }
   ],
   "source": [
    "def nLargestElementInList(k):\n",
    "    size = int(input('Enter the No of elements in a list: '))\n",
    "    list = []\n",
    "    for i in range(size):\n",
    "        list.append(int(input('Enter a Element: ')))\n",
    "    print(f'The {k} Largest Element in {list} = {sorted(list, reverse=True)[0:k]}')\n",
    "nLargestElementInList(2)\n"
   ]
  },
  {
   "cell_type": "markdown",
   "id": "ddc71556",
   "metadata": {},
   "source": [
    "## 7. Write a Python program to print even numbers in a list?"
   ]
  },
  {
   "cell_type": "code",
   "execution_count": 9,
   "id": "236873bf",
   "metadata": {},
   "outputs": [
    {
     "name": "stdout",
     "output_type": "stream",
     "text": [
      "Enter the No of elements in a list: 5\n",
      "Enter a Element: 1\n",
      "Enter a Element: 2\n",
      "Enter a Element: 3\n",
      "Enter a Element: 4\n",
      "Enter a Element: 5\n",
      "The Even Elements in [1, 2, 3, 4, 5] = [2, 4]\n"
     ]
    }
   ],
   "source": [
    "def evenNoInList():\n",
    "    size = int(input('Enter the No of elements in a list: '))\n",
    "    list = []\n",
    "    even_list = []\n",
    "    for i in range(size):\n",
    "        list.append(int(input('Enter a Element: ')))\n",
    "    for i in list:\n",
    "        if i%2 == 0:\n",
    "            even_list.append(i)\n",
    "    print(f'The Even Elements in {list} = {even_list}')\n",
    "\n",
    "evenNoInList()"
   ]
  },
  {
   "cell_type": "markdown",
   "id": "bcf1d6a3",
   "metadata": {},
   "source": [
    "## 8. Write a Python program to print odd numbers in a List?"
   ]
  },
  {
   "cell_type": "code",
   "execution_count": 14,
   "id": "84f95dc8",
   "metadata": {},
   "outputs": [
    {
     "name": "stdout",
     "output_type": "stream",
     "text": [
      "Enter the No of elements in a list: 5\n",
      "Enter a Element: 1\n",
      "Enter a Element: 2\n",
      "Enter a Element: 3\n",
      "Enter a Element: 4\n",
      "Enter a Element: 5\n",
      "The odd Elements in [1, 2, 3, 4, 5] = [1, 3, 5]\n"
     ]
    }
   ],
   "source": [
    "def oddNoInList():\n",
    "    size = int(input('Enter the No of elements in a list: '))\n",
    "    list = []\n",
    "    odd_list = []\n",
    "    for i in range(size):\n",
    "        list.append(int(input('Enter a Element: ')))\n",
    "    for i in list:\n",
    "        if i%2 != 0:\n",
    "            odd_list.append(i)\n",
    "    print(f'The odd Elements in {list} = {odd_list}')\n",
    "\n",
    "oddNoInList()"
   ]
  },
  {
   "cell_type": "markdown",
   "id": "28a6c4c9",
   "metadata": {},
   "source": [
    "## 9. Write a Python program to Remove empty List from List?"
   ]
  },
  {
   "cell_type": "code",
   "execution_count": 39,
   "id": "e67d2660",
   "metadata": {},
   "outputs": [
    {
     "name": "stdout",
     "output_type": "stream",
     "text": [
      "The List : [1, [], 2, 3, [], 4, 5]\n",
      "The list after removing empty list\n",
      "[1, 2, 3, 4, 5]\n"
     ]
    }
   ],
   "source": [
    "lst = [1,[],2,3,[],4,5]\n",
    "print(\"The List :\",lst)\n",
    "removeEmptylist = [ele for ele in lst if ele != []]\n",
    "print(\"The list after removing empty list\")\n",
    "print(removeEmptylist)"
   ]
  },
  {
   "cell_type": "markdown",
   "id": "4039b2f5",
   "metadata": {},
   "source": [
    "## 10. Write a Python program to Cloning or Copying a list?"
   ]
  },
  {
   "cell_type": "code",
   "execution_count": 43,
   "id": "f72b667c",
   "metadata": {},
   "outputs": [
    {
     "name": "stdout",
     "output_type": "stream",
     "text": [
      "Enter a list[1,2,3,4,5]\n",
      "[1, 2, 3, 4, 5] 2332389552320\n",
      "[1, 2, 3, 4, 5] 2332389700224\n"
     ]
    }
   ],
   "source": [
    "import copy\n",
    "\n",
    "def cloneList():\n",
    "    list = eval(input('Enter a list'))\n",
    "    print(list, id(list))\n",
    "    cloned_list = list.copy()\n",
    "    print(cloned_list, id(cloned_list))\n",
    "\n",
    "cloneList()"
   ]
  },
  {
   "cell_type": "markdown",
   "id": "57a48167",
   "metadata": {},
   "source": [
    "## 11. Write a Python program to Count occurrences of an element in a list?"
   ]
  },
  {
   "cell_type": "code",
   "execution_count": 46,
   "id": "ec9e5a04",
   "metadata": {},
   "outputs": [
    {
     "name": "stdout",
     "output_type": "stream",
     "text": [
      "Enter the elements of the list: [1,1,2,3,4,5]\n",
      "Enter the element to find: 1\n",
      "There are 2 occurences of 1 in [1, 1, 2, 3, 4, 5]\n"
     ]
    }
   ],
   "source": [
    "def checkOccurence():\n",
    "    list = eval(input('Enter the elements of the list: '))\n",
    "    num = eval(input('Enter the element to find: '))\n",
    "    count = 0\n",
    "    if num in list:\n",
    "        for i in list:\n",
    "            if i == num:\n",
    "                count = count+1\n",
    "    print(f'There are {count} occurences of {num} in {list}')\n",
    "checkOccurence()"
   ]
  },
  {
   "cell_type": "code",
   "execution_count": null,
   "id": "11c1ff05",
   "metadata": {},
   "outputs": [],
   "source": []
  }
 ],
 "metadata": {
  "kernelspec": {
   "display_name": "Python 3 (ipykernel)",
   "language": "python",
   "name": "python3"
  },
  "language_info": {
   "codemirror_mode": {
    "name": "ipython",
    "version": 3
   },
   "file_extension": ".py",
   "mimetype": "text/x-python",
   "name": "python",
   "nbconvert_exporter": "python",
   "pygments_lexer": "ipython3",
   "version": "3.12.4"
  }
 },
 "nbformat": 4,
 "nbformat_minor": 5
}
