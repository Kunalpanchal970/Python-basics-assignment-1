{
 "cells": [
  {
   "cell_type": "markdown",
   "id": "f49b0983",
   "metadata": {},
   "source": [
    "### 1.What are the two values of the Boolean data type? How do you write them?"
   ]
  },
  {
   "cell_type": "markdown",
   "id": "d9ef479b",
   "metadata": {},
   "source": [
    "2 values of boolean data type are - True and False \n",
    "\n",
    "to write them, we should use first letter in capital as 'True' and 'False'"
   ]
  },
  {
   "cell_type": "markdown",
   "id": "412161b6",
   "metadata": {},
   "source": [
    "### 2. What are the three different types of Boolean operators?"
   ]
  },
  {
   "cell_type": "markdown",
   "id": "502e065a",
   "metadata": {},
   "source": [
    "3 different types of Boolean operators are -\n",
    "#### and \n",
    "#### or\n",
    "#### not"
   ]
  },
  {
   "cell_type": "markdown",
   "id": "a7480477",
   "metadata": {},
   "source": [
    "### 3. Make a list of each Boolean operator&#39;s truth tables (i.e. every possible combination of Boolean values for the operator and what it evaluate )."
   ]
  },
  {
   "cell_type": "markdown",
   "id": "507bf1ad",
   "metadata": {},
   "source": [
    "#### AND Truth Table\n",
    "    x\t    and\ty\t    Returns\n",
    "    True\t and\tTrue\t True\n",
    "    True\t and\tFalse\tFalse\n",
    "    False\tand\tTrue\t False\n",
    "    False\tand\tFalse\tFalse"
   ]
  },
  {
   "cell_type": "markdown",
   "id": "d76c67a0",
   "metadata": {},
   "source": [
    "#### OR Truth Table\n",
    "    x\t    or\ty\t    Returns\n",
    "    True\t or\tTrue\t True\n",
    "    True\t or\tFalse\tTrue\n",
    "    False\tor\tTrue\t True\n",
    "    False\tor\tFalse\tFalse"
   ]
  },
  {
   "cell_type": "markdown",
   "id": "fb3409d3",
   "metadata": {},
   "source": [
    "#### NOT Truth Table\n",
    "    not\tx\t   Returns\n",
    "    not\tTrue\tFalse\n",
    "    not\tFalse   True"
   ]
  },
  {
   "cell_type": "markdown",
   "id": "9e6ffae2",
   "metadata": {},
   "source": [
    "#### == Truth Table\n",
    "    x\t    ==\ty\t  Returns\n",
    "    True\t ==\tTrue \tTrue\n",
    "    True\t ==\tFalse\tFalse\n",
    "    False\t==\tTrue \tFalse\n",
    "    False\t==\tFalse\tTrue"
   ]
  },
  {
   "cell_type": "markdown",
   "id": "9ef764bc",
   "metadata": {},
   "source": [
    "### 4. What are the values of the following expressions?\n",
    "(5 &gt; 4) and (3 == 5)\n",
    "\n",
    "not (5 &gt; 4)\n",
    "\n",
    "(5 &gt; 4) or (3 == 5)\n",
    "\n",
    "not ((5 &gt; 4) or (3 == 5))\n",
    "\n",
    "(True and True) and (True == False)\n",
    "\n",
    "(not False) or (not True)"
   ]
  },
  {
   "cell_type": "markdown",
   "id": "2901b0f4",
   "metadata": {},
   "source": [
    "    (5 > 4) and (3 == 5)  -> False\n",
    "\n",
    "    not (5 > 4)  -> False\n",
    "\n",
    "    (5 > 4) or (3 == 5)  -> True\n",
    "\n",
    "    not ((5 > 4) or (3 == 5))  -> False\n",
    "\n",
    "    (True and True) and (True == False)  -> False\n",
    "\n",
    "    (not False) or (not True)  -> True"
   ]
  },
  {
   "cell_type": "markdown",
   "id": "522c6140",
   "metadata": {},
   "source": [
    "### 5. What are the six comparison operators?"
   ]
  },
  {
   "cell_type": "markdown",
   "id": "f3dfa657",
   "metadata": {},
   "source": [
    "##### six comparison operators are - \n",
    "    Less than ( < )\n",
    "    Less than or equal to (<=)\n",
    "    Greater than (>)\n",
    "    Greater than or equal to (>=)\n",
    "    Equal to ( == )\n",
    "    Not equal to ( != )"
   ]
  },
  {
   "cell_type": "markdown",
   "id": "e9f41840",
   "metadata": {},
   "source": [
    "### 6. How do you tell the difference between the equal to and assignment operators?Describe a condition and when you would use one."
   ]
  },
  {
   "cell_type": "markdown",
   "id": "8a2460f0",
   "metadata": {},
   "source": [
    "The “=” is an assignment operator is used to assign the value on the right to the variable on the left.\n",
    "\n",
    "The ‘==’ operator checks whether the two given operands are equal or not. If so, it returns true. Otherwise it returns false."
   ]
  },
  {
   "cell_type": "code",
   "execution_count": 5,
   "id": "3e8b67f0",
   "metadata": {},
   "outputs": [
    {
     "data": {
      "text/plain": [
       "False"
      ]
     },
     "execution_count": 5,
     "metadata": {},
     "output_type": "execute_result"
    }
   ],
   "source": [
    "#example\n",
    "x = 5  #value assigning\n",
    "y = 7 #value assigning\n",
    "\n",
    "x == y #checking equality"
   ]
  },
  {
   "cell_type": "markdown",
   "id": "e99ffb67",
   "metadata": {},
   "source": [
    "### 7. Identify the three blocks in this code:\n",
    "    spam = 0\n",
    "    if spam == 10:\n",
    "    print('eggs')\n",
    "    if spam > 5:\n",
    "    print('bacon')\n",
    "    else:\n",
    "    print('ham')\n",
    "    print('spam')\n",
    "    print('spam')\n"
   ]
  },
  {
   "cell_type": "code",
   "execution_count": 7,
   "id": "bf9e4225",
   "metadata": {},
   "outputs": [
    {
     "name": "stdout",
     "output_type": "stream",
     "text": [
      "ham\n",
      "spam\n",
      "spam\n"
     ]
    }
   ],
   "source": [
    "spam = 0\n",
    "if spam == 10: \n",
    "    print('eggs')  #block 1\n",
    "\n",
    "if spam > 5:   \n",
    "    print('bacon') #block 2\n",
    "\n",
    "else:          \n",
    "    print('ham')    #block 3\n",
    "    print('spam')\n",
    "    print('spam')"
   ]
  },
  {
   "cell_type": "markdown",
   "id": "bee53704",
   "metadata": {},
   "source": [
    "### 8. Write code that prints Hello if 1 is stored in spam, prints Howdy if 2 is stored in spam, and prints Greetings! if anything else is stored in spam.\n"
   ]
  },
  {
   "cell_type": "code",
   "execution_count": 18,
   "id": "5665dcff",
   "metadata": {},
   "outputs": [],
   "source": [
    "spam = 2  #test assignmemt "
   ]
  },
  {
   "cell_type": "code",
   "execution_count": 17,
   "id": "e20e8e2e",
   "metadata": {},
   "outputs": [
    {
     "name": "stdout",
     "output_type": "stream",
     "text": [
      "Howdy\n"
     ]
    }
   ],
   "source": [
    "if spam == 1: \n",
    "    print(\"Hello\")\n",
    "elif spam == 2:\n",
    "    print(\"Howdy\")\n",
    "else:\n",
    "    print(\"Greetings! if anything else is stored in spam.\")"
   ]
  },
  {
   "cell_type": "markdown",
   "id": "257941e5",
   "metadata": {},
   "source": [
    "### 9.If your programme is stuck in an endless loop, what keys you’ll press?\n"
   ]
  },
  {
   "cell_type": "markdown",
   "id": "eab33f9e",
   "metadata": {},
   "source": [
    "Ctrl + c"
   ]
  },
  {
   "cell_type": "markdown",
   "id": "ec9ac19f",
   "metadata": {},
   "source": [
    "### 10. How can you tell the difference between break and continue?"
   ]
  },
  {
   "cell_type": "markdown",
   "id": "2f3e4017",
   "metadata": {},
   "source": [
    "The break statement terminates the whole iteration of a loop whereas continue skips the current iteration."
   ]
  },
  {
   "cell_type": "markdown",
   "id": "fc1b2a41",
   "metadata": {},
   "source": [
    "### 11. In a for loop, what is the difference between range(10), range(0, 10), and range(0, 10, 1)?"
   ]
  },
  {
   "cell_type": "markdown",
   "id": "b9224435",
   "metadata": {},
   "source": [
    "In range(10) only ending index is given, so it starts function from zero index by default.\n",
    "\n",
    "In range(0, 10) 0 is start index and 10 is end index, so both start and end point is given.\n",
    "\n",
    "In range(0, 10, 1) 1 is step to be used while going from index 0 to 10."
   ]
  },
  {
   "cell_type": "markdown",
   "id": "d5262301",
   "metadata": {},
   "source": [
    "### 12. Write a short program that prints the numbers 1 to 10 using a for loop. Then write an equivalent program that prints the numbers 1 to 10 using a while loop."
   ]
  },
  {
   "cell_type": "code",
   "execution_count": 24,
   "id": "b7fb6c8f",
   "metadata": {},
   "outputs": [
    {
     "name": "stdout",
     "output_type": "stream",
     "text": [
      "1\n",
      "2\n",
      "3\n",
      "4\n",
      "5\n",
      "6\n",
      "7\n",
      "8\n",
      "9\n",
      "10\n"
     ]
    }
   ],
   "source": [
    "#program using for loop\n",
    "for i in range(1, 11):\n",
    "    print(i)"
   ]
  },
  {
   "cell_type": "code",
   "execution_count": 23,
   "id": "2ff99659",
   "metadata": {},
   "outputs": [
    {
     "name": "stdout",
     "output_type": "stream",
     "text": [
      "1\n",
      "2\n",
      "3\n",
      "4\n",
      "5\n",
      "6\n",
      "7\n",
      "8\n",
      "9\n",
      "10\n"
     ]
    }
   ],
   "source": [
    "#program using while loop\n",
    "i = 1\n",
    "while(i<=10):\n",
    "    print(i)\n",
    "    i += 1"
   ]
  },
  {
   "cell_type": "markdown",
   "id": "68bad507",
   "metadata": {},
   "source": [
    "### 13. If you had a function named bacon() inside a module named spam, how would you call it after importing spam?"
   ]
  },
  {
   "cell_type": "markdown",
   "id": "180b224a",
   "metadata": {},
   "source": [
    " We can use the functions inside a module by using a dot(.) operator along with the module name.\n",
    " example - \n",
    " \n",
    " import spam  \n",
    " \n",
    "\n",
    "spam.bacon()  #Use dot operator to access bacon() inside module \"spam\"\n"
   ]
  }
 ],
 "metadata": {
  "kernelspec": {
   "display_name": "Python 3 (ipykernel)",
   "language": "python",
   "name": "python3"
  },
  "language_info": {
   "codemirror_mode": {
    "name": "ipython",
    "version": 3
   },
   "file_extension": ".py",
   "mimetype": "text/x-python",
   "name": "python",
   "nbconvert_exporter": "python",
   "pygments_lexer": "ipython3",
   "version": "3.9.12"
  }
 },
 "nbformat": 4,
 "nbformat_minor": 5
}
