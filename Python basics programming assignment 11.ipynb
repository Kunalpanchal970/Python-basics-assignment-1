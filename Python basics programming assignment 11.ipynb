{
 "cells": [
  {
   "cell_type": "markdown",
   "id": "c91df274",
   "metadata": {},
   "source": [
    "## 1. Write a Python program to find words which are greater than given length k?"
   ]
  },
  {
   "cell_type": "code",
   "execution_count": 7,
   "id": "68015c18",
   "metadata": {},
   "outputs": [
    {
     "name": "stdout",
     "output_type": "stream",
     "text": [
      "Enter the string: Ineuron Full Stack Data Science Course\n",
      "Enter the length of the string: 3\n",
      "Ineuron,Full,Stack,Data,Science,Course\n"
     ]
    }
   ],
   "source": [
    "def checkLengthOfString():\n",
    "    string = input(\"Enter the string: \")\n",
    "    length = int(input(\"Enter the length of the string: \"))\n",
    "    out_string = []\n",
    "    for string in string.split(\" \"):\n",
    "        if len(string) > length:\n",
    "            out_string.append(string)\n",
    "    print(\",\".join(out_string))\n",
    "checkLengthOfString()"
   ]
  },
  {
   "cell_type": "markdown",
   "id": "a6e6880e",
   "metadata": {},
   "source": [
    "## 2. Write a Python program for removing i-th character from a string?"
   ]
  },
  {
   "cell_type": "code",
   "execution_count": 11,
   "id": "d7029065",
   "metadata": {},
   "outputs": [
    {
     "name": "stdout",
     "output_type": "stream",
     "text": [
      "Enter the string: Ineuron\n",
      "Enter the ith character: 2\n",
      "Inuron\n"
     ]
    }
   ],
   "source": [
    "def removeCharacter():\n",
    "    string = input(\"Enter the string: \")\n",
    "    char_num = int(input(\"Enter the ith character: \"))\n",
    "    out_string =  \"\"\n",
    "    for i in range (len(string)):\n",
    "        if i != char_num: \n",
    "            out_string = out_string + string[i]\n",
    "    print(out_string)\n",
    "    \n",
    "removeCharacter()"
   ]
  },
  {
   "cell_type": "markdown",
   "id": "724bc219",
   "metadata": {},
   "source": [
    "## 3. Write a Python program to split and join a string?"
   ]
  },
  {
   "cell_type": "code",
   "execution_count": 31,
   "id": "dfcc8a8a",
   "metadata": {},
   "outputs": [
    {
     "name": "stdout",
     "output_type": "stream",
     "text": [
      "Enter the string: Ineuron Full Stack Data Science\n",
      "Split String: ['Ineuron', 'Full', 'Stack', 'Data', 'Science']\n",
      "Join String: Ineuron Full Stack Data Science\n"
     ]
    }
   ],
   "source": [
    "def splitJoinString():\n",
    "    string = input('Enter the string: ')\n",
    "    print(f\"Split String: {string.split(' ')}\")\n",
    "    print(f\"Join String: {' '.join(string.split(' '))}\")\n",
    "\n",
    "splitJoinString()"
   ]
  },
  {
   "cell_type": "markdown",
   "id": "717cd826",
   "metadata": {},
   "source": [
    "## 4. Write a Python to check if a given string is binary string or not?"
   ]
  },
  {
   "cell_type": "code",
   "execution_count": 36,
   "id": "ff440bbb",
   "metadata": {},
   "outputs": [
    {
     "name": "stdout",
     "output_type": "stream",
     "text": [
      "Enter the string: 1234\n",
      "1234 is not a binart string\n",
      "Enter the string: 1010\n",
      "1010 is a binary string\n"
     ]
    }
   ],
   "source": [
    "def checkBinary():\n",
    "    string = input('Enter the string: ')\n",
    "    binary = 0\n",
    "    for i in string:\n",
    "        if i in ['0','1']:\n",
    "            binary = 1\n",
    "            continue\n",
    "        else:\n",
    "            binary = 0\n",
    "            break\n",
    "    statement = 'is a binary string' if binary == 1 else 'is not a binart string' \n",
    "    print(f'{string} {statement}')\n",
    "\n",
    "checkBinary()\n",
    "checkBinary()"
   ]
  },
  {
   "cell_type": "markdown",
   "id": "adc6e59d",
   "metadata": {},
   "source": [
    "## 5. Write a Python program to find uncommon words from two Strings?"
   ]
  },
  {
   "cell_type": "code",
   "execution_count": 42,
   "id": "d60302b6",
   "metadata": {},
   "outputs": [
    {
     "name": "stdout",
     "output_type": "stream",
     "text": [
      "Enter the String 1: Supervised Learning\n",
      "Enter the String 2: unsupervised Learning\n",
      "{'Supervised', 'unsupervised'}\n"
     ]
    }
   ],
   "source": [
    "def unCommonWords():\n",
    "    string_1 = set(input(\"Enter the String 1: \").split(' '))\n",
    "    string_2 = set(input(\"Enter the String 2: \").split(' '))\n",
    "    out_string = (string_1.union(string_2)).difference(string_1.intersection(string_2))\n",
    "    print(out_string)\n",
    "\n",
    "unCommonWords()"
   ]
  },
  {
   "cell_type": "markdown",
   "id": "5376a496",
   "metadata": {},
   "source": [
    "## 6. Write a Python to find all duplicate characters in string?"
   ]
  },
  {
   "cell_type": "code",
   "execution_count": 45,
   "id": "d2d21efa",
   "metadata": {},
   "outputs": [
    {
     "name": "stdout",
     "output_type": "stream",
     "text": [
      "Enter the string a : common\n"
     ]
    },
    {
     "data": {
      "text/plain": [
       "['o', 'm']"
      ]
     },
     "execution_count": 45,
     "metadata": {},
     "output_type": "execute_result"
    }
   ],
   "source": [
    "str = input(\"Enter the string a : \").lower()\n",
    "duplicate = []\n",
    "\n",
    "for i in str:\n",
    "    if str.count(i) > 1 :\n",
    "        if i not in duplicate:\n",
    "            duplicate.append(i)\n",
    "        \n",
    "duplicate\n"
   ]
  },
  {
   "cell_type": "markdown",
   "id": "9b77ee4c",
   "metadata": {},
   "source": [
    "## 7. Write a Python Program to check if a string contains any special character?"
   ]
  },
  {
   "cell_type": "code",
   "execution_count": 49,
   "id": "6b03f638",
   "metadata": {},
   "outputs": [
    {
     "name": "stdout",
     "output_type": "stream",
     "text": [
      "Enter the string a: @#$!100\n",
      "String @#$!100 has special charecter: ['@', '#', '$', '!']\n"
     ]
    }
   ],
   "source": [
    "import string\n",
    "\n",
    "string_char = string.punctuation\n",
    "spChar = []\n",
    "\n",
    "str = input(\"Enter the string a: \").lower()\n",
    "for i in str:\n",
    "    if i in string_char:\n",
    "        spChar.append(i)\n",
    "if len(spChar) > 0:\n",
    "    print(\"String {} has special charecter: {}\".format(str,spChar))"
   ]
  },
  {
   "cell_type": "code",
   "execution_count": null,
   "id": "48287364",
   "metadata": {},
   "outputs": [],
   "source": []
  }
 ],
 "metadata": {
  "kernelspec": {
   "display_name": "Python 3 (ipykernel)",
   "language": "python",
   "name": "python3"
  },
  "language_info": {
   "codemirror_mode": {
    "name": "ipython",
    "version": 3
   },
   "file_extension": ".py",
   "mimetype": "text/x-python",
   "name": "python",
   "nbconvert_exporter": "python",
   "pygments_lexer": "ipython3",
   "version": "3.12.4"
  }
 },
 "nbformat": 4,
 "nbformat_minor": 5
}
