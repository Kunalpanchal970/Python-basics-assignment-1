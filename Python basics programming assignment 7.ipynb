{
 "cells": [
  {
   "cell_type": "markdown",
   "id": "c3607729",
   "metadata": {},
   "source": [
    "## 1. Write a Python Program to find sum of array?\n"
   ]
  },
  {
   "cell_type": "code",
   "execution_count": 1,
   "id": "d8915c35",
   "metadata": {},
   "outputs": [
    {
     "data": {
      "text/plain": [
       "55"
      ]
     },
     "execution_count": 1,
     "metadata": {},
     "output_type": "execute_result"
    }
   ],
   "source": [
    "#Solution 1\n",
    "lst = [1,2,3,4,5,6,7,8,9,10]\n",
    "sum(lst)"
   ]
  },
  {
   "cell_type": "code",
   "execution_count": 3,
   "id": "9bb87f62",
   "metadata": {},
   "outputs": [
    {
     "name": "stdout",
     "output_type": "stream",
     "text": [
      "Sum is 55\n"
     ]
    }
   ],
   "source": [
    "\n",
    "#Solution 2\n",
    "sum =0\n",
    "lst = [1,2,3,4,5,6,7,8,9,10]\n",
    "for i in range(0,len(lst)):\n",
    "    sum+=lst[i]\n",
    "print(\"Sum is\",sum)"
   ]
  },
  {
   "cell_type": "markdown",
   "id": "72cd04a5",
   "metadata": {},
   "source": [
    "## 2. Write a Python Program to find largest element in an array?"
   ]
  },
  {
   "cell_type": "code",
   "execution_count": 77,
   "id": "2ee24756",
   "metadata": {},
   "outputs": [
    {
     "name": "stdout",
     "output_type": "stream",
     "text": [
      "lstgetst elemnt in the array [1000, 2000, 3000, 100, 500, 10] is 3000\n"
     ]
    }
   ],
   "source": [
    "#solution 1\n",
    "lst = [1000,2000,3000,100,500,10]\n",
    "max(lst)\n",
    "print(\"lstgetst elemnt in the array {} is {}\".format(lst,max(lst)))"
   ]
  },
  {
   "cell_type": "code",
   "execution_count": 78,
   "id": "85e91a91",
   "metadata": {},
   "outputs": [
    {
     "name": "stdout",
     "output_type": "stream",
     "text": [
      "Largest element in the array [1000, 2000, 3000, 100, 500, 10] is 3000 \n"
     ]
    }
   ],
   "source": [
    "#Solution2\n",
    "lst = [1000,2000,3000,100,500,10]\n",
    "big = 0\n",
    "for i in range(0,len(lst)):\n",
    "    if big < lst[i]:\n",
    "        big = lst[i]\n",
    "        \n",
    "print(\"Largest element in the array {} is {} \".format(lst,big))"
   ]
  },
  {
   "cell_type": "markdown",
   "id": "a17dcd30",
   "metadata": {},
   "source": [
    "## 3. Write a Python Program for array rotation?"
   ]
  },
  {
   "cell_type": "code",
   "execution_count": 82,
   "id": "dded842c",
   "metadata": {},
   "outputs": [
    {
     "name": "stdout",
     "output_type": "stream",
     "text": [
      "Enter the Array: 1,2,3,4,5,6,7,8,9\n",
      "The Reverse of Array (1, 2, 3, 4, 5, 6, 7, 8, 9) is (9, 8, 7, 6, 5, 4, 3, 2, 1)\n"
     ]
    }
   ],
   "source": [
    "def reverseOfArray():\n",
    "    in_arr = eval(input(\"Enter the Array: \"))\n",
    "    print(f\"The Reverse of Array {in_arr} is {in_arr[::-1]}\")\n",
    "    \n",
    "reverseOfArray()"
   ]
  },
  {
   "cell_type": "markdown",
   "id": "de4902f2",
   "metadata": {},
   "source": [
    "## 4. Write a Python Program to Split the array and add the first part to the end?"
   ]
  },
  {
   "cell_type": "code",
   "execution_count": 85,
   "id": "b0012893",
   "metadata": {},
   "outputs": [
    {
     "name": "stdout",
     "output_type": "stream",
     "text": [
      "Enter the Array: 1,2,3,4,5,6,7,8,9\n",
      "The Sum of First and Last Elements of Array (1, 2, 3, 4, 5, 6, 7, 8, 9) is 10\n"
     ]
    }
   ],
   "source": [
    "def sumOfSplits():\n",
    "    in_arr = eval(input(\"Enter the Array: \"))\n",
    "    print(f\"The Sum of First and Last Elements of Array {in_arr} is {in_arr[0]+in_arr[-1]}\")\n",
    "    \n",
    "sumOfSplits()"
   ]
  },
  {
   "cell_type": "markdown",
   "id": "b4d47424",
   "metadata": {},
   "source": [
    "## 5. Write a Python Program to check if given array is Monotonic?"
   ]
  },
  {
   "cell_type": "code",
   "execution_count": 88,
   "id": "579020a4",
   "metadata": {},
   "outputs": [
    {
     "name": "stdout",
     "output_type": "stream",
     "text": [
      "Enter the Array: 1,2,3,4,5,6,7,8,9\n",
      "Array (1, 2, 3, 4, 5, 6, 7, 8, 9) is Monotonic\n",
      "Enter the Array: 1,2,3,4,55,6,7,8,9\n",
      "Array (1, 2, 3, 4, 55, 6, 7, 8, 9) is Not Monotonic\n"
     ]
    }
   ],
   "source": [
    "def checkMonotonic():\n",
    "    in_arr = eval(input(\"Enter the Array: \"))\n",
    "    if(all(in_arr[i]<=in_arr[i+1] for i in range(len(in_arr)-1)) or all(in_arr[i]>=in_arr[i+1] for i in range(len(in_arr)-1))):\n",
    "        print(f'Array {in_arr} is Monotonic')\n",
    "    else:\n",
    "        print(f'Array {in_arr} is Not Monotonic')\n",
    "\n",
    "checkMonotonic()\n",
    "checkMonotonic()"
   ]
  },
  {
   "cell_type": "code",
   "execution_count": null,
   "id": "b7e80b93",
   "metadata": {},
   "outputs": [],
   "source": []
  }
 ],
 "metadata": {
  "kernelspec": {
   "display_name": "Python 3 (ipykernel)",
   "language": "python",
   "name": "python3"
  },
  "language_info": {
   "codemirror_mode": {
    "name": "ipython",
    "version": 3
   },
   "file_extension": ".py",
   "mimetype": "text/x-python",
   "name": "python",
   "nbconvert_exporter": "python",
   "pygments_lexer": "ipython3",
   "version": "3.12.4"
  }
 },
 "nbformat": 4,
 "nbformat_minor": 5
}
