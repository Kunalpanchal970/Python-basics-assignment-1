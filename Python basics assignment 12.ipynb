{
 "cells": [
  {
   "cell_type": "markdown",
   "id": "e62d46c1",
   "metadata": {},
   "source": [
    "## 1. In what modes should the PdfFileReader() and PdfFileWriter() File objects will be opened?"
   ]
  },
  {
   "cell_type": "markdown",
   "id": "21bfacbb",
   "metadata": {},
   "source": [
    "PdfFileReader() -- it is used in 'rb' mode i.e. read binary\n",
    "\n",
    "PdfFileWriter() -- it is used in 'wb' mode i.e. write binary"
   ]
  },
  {
   "cell_type": "code",
   "execution_count": 1,
   "id": "9f8b921c",
   "metadata": {},
   "outputs": [],
   "source": [
    "#!pip install PyPDF2"
   ]
  },
  {
   "cell_type": "markdown",
   "id": "1c217006",
   "metadata": {},
   "source": [
    "## 2. From a PdfFileReader object, how do you get a Page object for page 5?"
   ]
  },
  {
   "cell_type": "markdown",
   "id": "83fe65af",
   "metadata": {},
   "source": [
    "Ans. Calling getPage(4) will return a Page object for page 5 since page 0 is the first page"
   ]
  },
  {
   "cell_type": "markdown",
   "id": "bd6b8da3",
   "metadata": {},
   "source": [
    "## 3. What PdfFileReader variable stores the number of pages in the PDF document?"
   ]
  },
  {
   "cell_type": "markdown",
   "id": "05a9c169",
   "metadata": {},
   "source": [
    "Ans. The numPages variable stores an integer of the number of pages in the PdfFileReader object."
   ]
  },
  {
   "cell_type": "markdown",
   "id": "b4e2a55a",
   "metadata": {},
   "source": [
    "## 4. If a PdfFileReader object’s PDF is encrypted with the password swordfish, what must you do before you can obtain Page objects from it?\n"
   ]
  },
  {
   "cell_type": "markdown",
   "id": "1a912a6f",
   "metadata": {},
   "source": [
    "    step 1 - load pdf [ PyPDF2.PdfFileReader(open('encrypted.pdf', 'rb')) ]\n",
    "\n",
    "    step 2 - check weather it is encrypted [ pdf.isEncrypted ]\n",
    "\n",
    "    step 3 - if encrypted use [ pdf.decrypt('swordfish') ]"
   ]
  },
  {
   "cell_type": "markdown",
   "id": "f0d1cff3",
   "metadata": {},
   "source": [
    "## 5. What methods do you use to rotate a page?"
   ]
  },
  {
   "cell_type": "markdown",
   "id": "70d4c0b1",
   "metadata": {},
   "source": [
    "Ans. The rotateClockwise() and rotateCounterClockwise() methods. The degrees to rotate is passed as an integer argument."
   ]
  },
  {
   "cell_type": "markdown",
   "id": "cf3f219c",
   "metadata": {},
   "source": [
    "## 6. What is the difference between a Run object and a Paragraph object?"
   ]
  },
  {
   "cell_type": "markdown",
   "id": "22b37e5a",
   "metadata": {},
   "source": [
    "Ans. A document contains multiple paragraphs. A paragraph begins on a new line and contains multiple runs. Runs are contiguous groups of characters within a paragraph."
   ]
  },
  {
   "cell_type": "markdown",
   "id": "49380f19",
   "metadata": {},
   "source": [
    "## 7. How do you obtain a list of Paragraph objects for a Document object that’s stored in a variable named doc?"
   ]
  },
  {
   "cell_type": "raw",
   "id": "fcaa9d5e-3f11-4a24-8c11-dd573c9eca60",
   "metadata": {},
   "source": [
    "Ans. \n",
    "\n",
    "#!pip install python-docx\n",
    "import docx\n",
    "doc = docx.Document('ineuron.docx')\n",
    "doc.paragraphs"
   ]
  },
  {
   "cell_type": "markdown",
   "id": "eaf347bc",
   "metadata": {},
   "source": [
    "## 8. What type of object has bold, underline, italic, strike, and outline variables?"
   ]
  },
  {
   "cell_type": "markdown",
   "id": "8a349b0d",
   "metadata": {},
   "source": [
    "Ans. A Run object has bold, underline,italic,strike and outline variables"
   ]
  },
  {
   "cell_type": "markdown",
   "id": "f06cfd3d",
   "metadata": {},
   "source": [
    "## 9. What is the difference between False, True, and None for the bold variable?"
   ]
  },
  {
   "cell_type": "markdown",
   "id": "fa36ddf0",
   "metadata": {},
   "source": [
    "Ans. \n",
    "\n",
    "Runs can be further styled using text attributes. Each attribute can be set to one of three values: \n",
    "\n",
    "True (the attribute is always enabled, no matter what other styles are applied to the run), \n",
    "\n",
    "False (the attribute is always disabled),\n",
    "\n",
    "None (defaults to whatever the run’s style is set to)\n",
    "\n",
    "True always makes the Run object bolded and False makes it always not bolded, no matter what the style’s bold setting is. None will make the Run object just use the style’s bold setting\n",
    "\n",
    "#### or\n",
    "\n",
    "False = off\n",
    "\n",
    "True = on\n",
    "\n",
    "none = not available"
   ]
  },
  {
   "cell_type": "markdown",
   "id": "f73104b1",
   "metadata": {},
   "source": [
    "## 10. How do you create a Document object for a new Word document?"
   ]
  },
  {
   "cell_type": "markdown",
   "id": "ddb4f2e7",
   "metadata": {},
   "source": [
    "Ans. By Calling the docx.Document() function."
   ]
  },
  {
   "cell_type": "markdown",
   "id": "73de1d34",
   "metadata": {},
   "source": [
    "## 11. How do you add a paragraph with the text 'Hello, there!' to a Document object stored in a variable named doc?"
   ]
  },
  {
   "cell_type": "code",
   "execution_count": null,
   "id": "6c157624",
   "metadata": {},
   "outputs": [],
   "source": [
    "# Example Program\n",
    "from docx import Document\n",
    "doc = Document()\n",
    "doc.add_paragraph('Hello, there!')\n",
    "doc.save('hellothere.docx')"
   ]
  },
  {
   "cell_type": "markdown",
   "id": "c35f2fd4",
   "metadata": {},
   "source": [
    "## 12. What integers represent the levels of headings available in Word documents?"
   ]
  },
  {
   "cell_type": "markdown",
   "id": "3a0500f4",
   "metadata": {},
   "source": [
    "Ans. integers 1 to 4 are for various heading levels where 1 is main heading and 4 the lowest subheading."
   ]
  }
 ],
 "metadata": {
  "kernelspec": {
   "display_name": "Python 3 (ipykernel)",
   "language": "python",
   "name": "python3"
  },
  "language_info": {
   "codemirror_mode": {
    "name": "ipython",
    "version": 3
   },
   "file_extension": ".py",
   "mimetype": "text/x-python",
   "name": "python",
   "nbconvert_exporter": "python",
   "pygments_lexer": "ipython3",
   "version": "3.12.4"
  }
 },
 "nbformat": 4,
 "nbformat_minor": 5
}
