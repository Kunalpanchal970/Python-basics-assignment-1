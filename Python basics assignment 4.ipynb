{
 "cells": [
  {
   "cell_type": "markdown",
   "id": "68438712",
   "metadata": {},
   "source": [
    "### Q1. What exactly is []?"
   ]
  },
  {
   "cell_type": "markdown",
   "id": "6fad9d63",
   "metadata": {},
   "source": [
    "Ans. Symbol [] denotes an empty list, which represents a collection of elements, but with no elements initially present within it."
   ]
  },
  {
   "cell_type": "markdown",
   "id": "76690ca9",
   "metadata": {},
   "source": [
    "### Q2. In a list of values stored in a variable called spam, how would you assign the value 'hello' as the third value? (Assume [2, 4, 6, 8, 10] are in spam.)"
   ]
  },
  {
   "cell_type": "code",
   "execution_count": 4,
   "id": "84e9fe88",
   "metadata": {},
   "outputs": [
    {
     "data": {
      "text/plain": [
       "[2, 4, 'hello', 8, 10]"
      ]
     },
     "execution_count": 4,
     "metadata": {},
     "output_type": "execute_result"
    }
   ],
   "source": [
    "spam = [2,4,6,8,10]\n",
    "spam[2] = 'hello'\n",
    "spam"
   ]
  },
  {
   "cell_type": "markdown",
   "id": "d3b16a68",
   "metadata": {},
   "source": [
    "### Let's pretend the spam includes the list [&#39;a&#39;, &#39;b&#39;, &#39;c&#39;, &#39;d&#39;] for the next three queries."
   ]
  },
  {
   "cell_type": "markdown",
   "id": "b21e7350",
   "metadata": {},
   "source": [
    "### Q3. What is the value of spam[int(int(&#39;3&#39; * 2) / 11)]?"
   ]
  },
  {
   "cell_type": "code",
   "execution_count": 5,
   "id": "4b4e5efd",
   "metadata": {},
   "outputs": [],
   "source": [
    "spam = ['a', 'b', 'c', 'd']"
   ]
  },
  {
   "cell_type": "code",
   "execution_count": 6,
   "id": "7deacabc",
   "metadata": {},
   "outputs": [
    {
     "data": {
      "text/plain": [
       "'d'"
      ]
     },
     "execution_count": 6,
     "metadata": {},
     "output_type": "execute_result"
    }
   ],
   "source": [
    "spam[int(int('3' * 2) / 11)]"
   ]
  },
  {
   "cell_type": "markdown",
   "id": "54c46a9f",
   "metadata": {},
   "source": [
    "### Q4. What is the value of spam[-1]?"
   ]
  },
  {
   "cell_type": "code",
   "execution_count": 7,
   "id": "2a446dbf",
   "metadata": {},
   "outputs": [
    {
     "data": {
      "text/plain": [
       "'d'"
      ]
     },
     "execution_count": 7,
     "metadata": {},
     "output_type": "execute_result"
    }
   ],
   "source": [
    "spam[-1]"
   ]
  },
  {
   "cell_type": "markdown",
   "id": "21bab2ab",
   "metadata": {},
   "source": [
    "### Q5. What is the value of spam[:2]?"
   ]
  },
  {
   "cell_type": "code",
   "execution_count": 8,
   "id": "0f99f781",
   "metadata": {},
   "outputs": [
    {
     "data": {
      "text/plain": [
       "['a', 'b']"
      ]
     },
     "execution_count": 8,
     "metadata": {},
     "output_type": "execute_result"
    }
   ],
   "source": [
    "spam[:2]"
   ]
  },
  {
   "cell_type": "markdown",
   "id": "f2b7f7bd",
   "metadata": {},
   "source": [
    "### Let&#39;s pretend bacon has the list [3.14, &#39;cat,&#39; 11, &#39;cat,&#39; True] for the next three questions."
   ]
  },
  {
   "cell_type": "code",
   "execution_count": 11,
   "id": "6a80677e",
   "metadata": {},
   "outputs": [],
   "source": [
    "bacon = [3.14, 'cat', 11, 'cat', True]"
   ]
  },
  {
   "cell_type": "markdown",
   "id": "e4694464",
   "metadata": {},
   "source": [
    "### Q6. What is the value of bacon.index(&#39;cat&#39;)?"
   ]
  },
  {
   "cell_type": "markdown",
   "id": "966dccf0",
   "metadata": {},
   "source": [
    "1"
   ]
  },
  {
   "cell_type": "markdown",
   "id": "96826f3e",
   "metadata": {},
   "source": [
    "### Q7. How does bacon.append(99) change the look of the list value in bacon?"
   ]
  },
  {
   "cell_type": "markdown",
   "id": "82004259",
   "metadata": {},
   "source": [
    "bacon.append(99) will add 99 in the end of the list."
   ]
  },
  {
   "cell_type": "markdown",
   "id": "65807de9",
   "metadata": {},
   "source": [
    "### Q8. How does bacon.remove(&#39;cat&#39;) change the look of the list in bacon?"
   ]
  },
  {
   "cell_type": "markdown",
   "id": "17e5a470",
   "metadata": {},
   "source": [
    "bacon.remove('cat') will remoce 'cat' from the list "
   ]
  },
  {
   "cell_type": "markdown",
   "id": "be58ccf0",
   "metadata": {},
   "source": [
    "### Q9. What are the list concatenation and list replication operators?"
   ]
  },
  {
   "cell_type": "markdown",
   "id": "30c842f1",
   "metadata": {},
   "source": [
    " The list concatenation operator is the plus sign (+), and the list replication operator is the asterisk (*)\n",
    " \n",
    "(+) operator combines two lists into a single list \n",
    "\n",
    "(*) operator repeats a list or replicates it multiple times."
   ]
  },
  {
   "cell_type": "markdown",
   "id": "be1ed5d7",
   "metadata": {},
   "source": [
    "### Q10. What is difference between the list methods append() and insert()?"
   ]
  },
  {
   "cell_type": "markdown",
   "id": "25bc6905",
   "metadata": {},
   "source": [
    "The append() method is used to add an element to the end of a list whereas the insert() method is used to insert an element at a specific index position within a list."
   ]
  },
  {
   "cell_type": "markdown",
   "id": "8e25ab6a",
   "metadata": {},
   "source": [
    "### Q11. What are the two methods for removing items from a list?"
   ]
  },
  {
   "cell_type": "markdown",
   "id": "c9473eb8",
   "metadata": {},
   "source": [
    "The two methods for removing items from a list are \n",
    "1. remove() - it removes the first occurance of the specific element from the list\n",
    "\n",
    "2. pop() - it removes the element of the specific index from the list"
   ]
  },
  {
   "cell_type": "markdown",
   "id": "26cf736f",
   "metadata": {},
   "source": [
    "### Q12. Describe how list values and string values are identical."
   ]
  },
  {
   "cell_type": "markdown",
   "id": "79bbe7f9",
   "metadata": {},
   "source": [
    "Ans. Both lists and strings are sequential collections of values. They preserve the order of their elements, allowing you to access individual elements by their index positions.\n",
    "\n",
    "Both lists and strings can be indexed using integer positions. You can access specific elements by referring to their index numbers, starting from 0.\n",
    "\n"
   ]
  },
  {
   "cell_type": "markdown",
   "id": "12a44b63",
   "metadata": {},
   "source": [
    "### Q13. What's the difference between tuples and lists?"
   ]
  },
  {
   "cell_type": "markdown",
   "id": "61c8ef9c",
   "metadata": {},
   "source": [
    "Ans. Tuples are represented by () and lists are represented by []. \n",
    "Main difference between lists and tuples is - \n",
    "\n",
    "Tuples are immutable, meaning their elements cannot be modified once they are assigned. In contrast, lists are mutable, allowing you to modify, add, or remove elements."
   ]
  },
  {
   "cell_type": "markdown",
   "id": "4262d6de",
   "metadata": {},
   "source": [
    "### Q14. How do you type a tuple value that only contains the integer 42?"
   ]
  },
  {
   "cell_type": "code",
   "execution_count": 10,
   "id": "3ba73afb",
   "metadata": {},
   "outputs": [],
   "source": [
    "tuple_example = (49,)"
   ]
  },
  {
   "cell_type": "markdown",
   "id": "4703b7d5",
   "metadata": {},
   "source": [
    "### Q15. How do you get a list value's tuple form? How do you get a tuple value's list form?"
   ]
  },
  {
   "cell_type": "code",
   "execution_count": 3,
   "id": "66eb131b",
   "metadata": {},
   "outputs": [
    {
     "data": {
      "text/plain": [
       "(5, 6, 7, 8)"
      ]
     },
     "execution_count": 3,
     "metadata": {},
     "output_type": "execute_result"
    }
   ],
   "source": [
    "tuple_1 = (1,2,3,4)\n",
    "list_1 = [5,6,7,8]\n",
    "\n",
    "#to get a list value's tuple form\n",
    "tuple_2 = tuple(list_1)\n",
    "tuple_2"
   ]
  },
  {
   "cell_type": "code",
   "execution_count": 4,
   "id": "5f492fa9",
   "metadata": {},
   "outputs": [
    {
     "data": {
      "text/plain": [
       "[1, 2, 3, 4]"
      ]
     },
     "execution_count": 4,
     "metadata": {},
     "output_type": "execute_result"
    }
   ],
   "source": [
    "#to get a tipe value's list form\n",
    "list_2 = list(tuple_1)\n",
    "list_2"
   ]
  },
  {
   "cell_type": "markdown",
   "id": "dab0b0aa",
   "metadata": {},
   "source": [
    "### Q16. Variables that \"contain\" list values are not necessarily lists themselves. Instead, what do they contain?"
   ]
  },
  {
   "cell_type": "markdown",
   "id": "ea5e9172",
   "metadata": {},
   "source": [
    "\n",
    "Ans. Variables that \"contain\" list values are not necessarily lists themselves, but rather a reference to the list object. Variables are essentially labels or names that reference objects in memory.\n",
    "\n",
    "When you assign a list to a variable, the variable is bound to the memory address where the list object is stored. This means that the variable holds a reference or pointer to the list object, rather than directly containing the list's elements."
   ]
  },
  {
   "cell_type": "markdown",
   "id": "db15dcb4",
   "metadata": {},
   "source": [
    "### Q17. How do you distinguish between copy.copy() and copy.deepcopy()?"
   ]
  },
  {
   "cell_type": "markdown",
   "id": "50ad4889",
   "metadata": {},
   "source": [
    "The copy.copy() function creates a shallow copy of an object. It creates a new object and copies the references of the original object's elements into the new object. In case of nested objects, only the top-level references are copied, not the deeply nested objects themselves. Changes made to nested objects will be reflected in both the original and copied objects.\n",
    "\n",
    "The copy.deepcopy() function creates a deep copy of an object. It recursively copies all objects and their nested objects, creating entirely independent copies. Any changes made to the copied object or its nested objects will not affect the original object."
   ]
  }
 ],
 "metadata": {
  "kernelspec": {
   "display_name": "Python 3 (ipykernel)",
   "language": "python",
   "name": "python3"
  },
  "language_info": {
   "codemirror_mode": {
    "name": "ipython",
    "version": 3
   },
   "file_extension": ".py",
   "mimetype": "text/x-python",
   "name": "python",
   "nbconvert_exporter": "python",
   "pygments_lexer": "ipython3",
   "version": "3.9.12"
  }
 },
 "nbformat": 4,
 "nbformat_minor": 5
}
