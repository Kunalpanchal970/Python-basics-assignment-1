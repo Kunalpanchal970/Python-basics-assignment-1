{
 "cells": [
  {
   "cell_type": "markdown",
   "id": "c30bc009",
   "metadata": {},
   "source": [
    "## Q1. What are escape characters, and how do you use them?"
   ]
  },
  {
   "cell_type": "markdown",
   "id": "d52af440",
   "metadata": {},
   "source": [
    "Ans. \n",
    "Escape characters are special characters in strings that are used to represent characters that cannot be easily typed or printed directly, such as control characters, special symbols, or characters with a special meaning.\n",
    "\n",
    "Escape characters are preceded by a backslash \\ and are followed by the character you want to represent."
   ]
  },
  {
   "cell_type": "markdown",
   "id": "82ac339e",
   "metadata": {},
   "source": [
    "## Q2. What do the escape characters n and t stand for?"
   ]
  },
  {
   "cell_type": "markdown",
   "id": "b45e6e0b",
   "metadata": {},
   "source": [
    "Ans. Escape characters n and t stand for 'newline' and 'tab' respectively."
   ]
  },
  {
   "cell_type": "markdown",
   "id": "4d21c6f7",
   "metadata": {},
   "source": [
    "## Q3. What is the way to include backslash characters in a string?"
   ]
  },
  {
   "cell_type": "markdown",
   "id": "1453e82e",
   "metadata": {},
   "source": [
    "Ans. To include backslash character in a string, we need to escape it by using another backslash  before it."
   ]
  },
  {
   "cell_type": "markdown",
   "id": "82fc1235",
   "metadata": {},
   "source": [
    "## Q4. The string \"Howl's Moving Castle\" is a correct value. Why isn't the single quote character in the word Howl's not escaped a problem?"
   ]
  },
  {
   "cell_type": "markdown",
   "id": "bff25592",
   "metadata": {},
   "source": [
    "Ans. It is because in the string \"Howl's Moving Castle\" , double quote characters (\"\") are used to enclose the string."
   ]
  },
  {
   "cell_type": "markdown",
   "id": "46fb886f",
   "metadata": {},
   "source": [
    "## Q5. How do you write a string of newlines if you don&#39;t want to use the n character?"
   ]
  },
  {
   "cell_type": "markdown",
   "id": "41350bc8",
   "metadata": {},
   "source": [
    "Ans. If you don't want to use the \\n character to represent newlines in a string, you can use triple-quoted strings (\"\"\")."
   ]
  },
  {
   "cell_type": "code",
   "execution_count": 14,
   "id": "a5464730",
   "metadata": {},
   "outputs": [
    {
     "name": "stdout",
     "output_type": "stream",
     "text": [
      "by this way\n",
      "we can write\n",
      "a string of\n",
      "newlines\n",
      "\n"
     ]
    }
   ],
   "source": [
    "#example\n",
    "my_string = \"\"\"by this way\n",
    "we can write\n",
    "a string of\n",
    "newlines\n",
    "\"\"\"\n",
    "print(my_string)"
   ]
  },
  {
   "cell_type": "markdown",
   "id": "ef7cae4d",
   "metadata": {},
   "source": [
    "## Q6. What are the values of the given expressions?\n",
    "\n",
    "'Hello, world'[1]\n",
    "\n",
    "'Hello, world'[0:5]\n",
    "\n",
    "'Hello, world'[:5]\n",
    "\n",
    "'Hello, world'[3:]"
   ]
  },
  {
   "cell_type": "code",
   "execution_count": 26,
   "id": "1b4b10d7",
   "metadata": {},
   "outputs": [
    {
     "data": {
      "text/plain": [
       "'e'"
      ]
     },
     "execution_count": 26,
     "metadata": {},
     "output_type": "execute_result"
    }
   ],
   "source": [
    "'Hello, world'[1]"
   ]
  },
  {
   "cell_type": "code",
   "execution_count": 20,
   "id": "9ab27bbd",
   "metadata": {},
   "outputs": [
    {
     "data": {
      "text/plain": [
       "'Hello'"
      ]
     },
     "execution_count": 20,
     "metadata": {},
     "output_type": "execute_result"
    }
   ],
   "source": [
    "'Hello, world'[0:5]"
   ]
  },
  {
   "cell_type": "code",
   "execution_count": 21,
   "id": "83cd2228",
   "metadata": {},
   "outputs": [
    {
     "data": {
      "text/plain": [
       "'Hello'"
      ]
     },
     "execution_count": 21,
     "metadata": {},
     "output_type": "execute_result"
    }
   ],
   "source": [
    "'Hello, world'[:5]"
   ]
  },
  {
   "cell_type": "code",
   "execution_count": 22,
   "id": "10d8c191",
   "metadata": {},
   "outputs": [
    {
     "data": {
      "text/plain": [
       "'lo, world'"
      ]
     },
     "execution_count": 22,
     "metadata": {},
     "output_type": "execute_result"
    }
   ],
   "source": [
    "'Hello, world'[3:]"
   ]
  },
  {
   "cell_type": "markdown",
   "id": "3ead56bb",
   "metadata": {},
   "source": [
    "## Q7. What are the values of the following expressions?\n",
    "\n",
    "'Hello'.upper()\n",
    "\n",
    "'Hello'.upper().isupper()\n",
    "\n",
    "'Hello'.upper().lower()"
   ]
  },
  {
   "cell_type": "markdown",
   "id": "0466e810",
   "metadata": {},
   "source": [
    "The values of the above expressions are - \n",
    "\n",
    "'HELLO'\n",
    "\n",
    "true\n",
    "\n",
    "'hello'"
   ]
  },
  {
   "cell_type": "markdown",
   "id": "ca192afd",
   "metadata": {},
   "source": [
    "## Q8. What are the values of the following expressions?\n",
    "\n",
    "'Remember, remember, the fifth of July.'.split()\n",
    "\n",
    "'-'.join('There can only one.'.split())"
   ]
  },
  {
   "cell_type": "code",
   "execution_count": 28,
   "id": "12cd522d",
   "metadata": {},
   "outputs": [
    {
     "data": {
      "text/plain": [
       "['Remember,', 'remember,', 'the', 'fifth', 'of', 'July.']"
      ]
     },
     "execution_count": 28,
     "metadata": {},
     "output_type": "execute_result"
    }
   ],
   "source": [
    "'Remember, remember, the fifth of July.'.split()"
   ]
  },
  {
   "cell_type": "code",
   "execution_count": 29,
   "id": "425b85ca",
   "metadata": {},
   "outputs": [
    {
     "data": {
      "text/plain": [
       "'There-can-only-one.'"
      ]
     },
     "execution_count": 29,
     "metadata": {},
     "output_type": "execute_result"
    }
   ],
   "source": [
    "'-'.join('There can only one.'.split())"
   ]
  },
  {
   "cell_type": "markdown",
   "id": "a04c7fc0",
   "metadata": {},
   "source": [
    "## Q9. What are the methods for right-justifying, left-justifying, and centering a string?"
   ]
  },
  {
   "cell_type": "markdown",
   "id": "ebd95b22",
   "metadata": {},
   "source": [
    "Ans. For right-justifyng :-\n",
    "\n",
    "    str.rjust(width, fillchar)\n",
    "    \n",
    "    For left-justifying :-\n",
    "    str.ljust(width, fillchar)\n",
    "    \n",
    "    For centering :-\n",
    "    str.center(width, fillchar)\n",
    "    "
   ]
  },
  {
   "cell_type": "markdown",
   "id": "742b5dc9",
   "metadata": {},
   "source": [
    "## Q10. What is the best way to remove whitespace characters from the start or end?"
   ]
  },
  {
   "cell_type": "markdown",
   "id": "e121b5b0",
   "metadata": {},
   "source": [
    "Ans. str.strip():- to remove whitespace characters from both the start and end of the string.\n",
    "\n",
    "str.lstrip():- to remove whitespace characters from the start (left) of the string.\n",
    "\n",
    "str.rstrip():- to remove whitespace characters from the end (right) of the string.\n"
   ]
  }
 ],
 "metadata": {
  "kernelspec": {
   "display_name": "Python 3 (ipykernel)",
   "language": "python",
   "name": "python3"
  },
  "language_info": {
   "codemirror_mode": {
    "name": "ipython",
    "version": 3
   },
   "file_extension": ".py",
   "mimetype": "text/x-python",
   "name": "python",
   "nbconvert_exporter": "python",
   "pygments_lexer": "ipython3",
   "version": "3.9.12"
  }
 },
 "nbformat": 4,
 "nbformat_minor": 5
}
