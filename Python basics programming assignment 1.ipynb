{
 "cells": [
  {
   "cell_type": "markdown",
   "id": "60997191",
   "metadata": {},
   "source": [
    "## 1. Write a Python program to print \"Hello Python\"?\n"
   ]
  },
  {
   "cell_type": "code",
   "execution_count": 1,
   "id": "a3ba2202",
   "metadata": {},
   "outputs": [
    {
     "name": "stdout",
     "output_type": "stream",
     "text": [
      "Hello Python\n"
     ]
    }
   ],
   "source": [
    "print(\"Hello Python\")"
   ]
  },
  {
   "cell_type": "markdown",
   "id": "7e4f4bed",
   "metadata": {},
   "source": [
    "## 2. Write a Python program to do arithmetical operations addition and division.?\n"
   ]
  },
  {
   "cell_type": "code",
   "execution_count": 2,
   "id": "7f4bafe5",
   "metadata": {},
   "outputs": [],
   "source": [
    "a  = 5\n",
    "b = 10"
   ]
  },
  {
   "cell_type": "code",
   "execution_count": 3,
   "id": "658671b7",
   "metadata": {},
   "outputs": [
    {
     "name": "stdout",
     "output_type": "stream",
     "text": [
      "15\n"
     ]
    }
   ],
   "source": [
    "print(a+b) # addition"
   ]
  },
  {
   "cell_type": "code",
   "execution_count": 4,
   "id": "23d32cf9",
   "metadata": {},
   "outputs": [
    {
     "name": "stdout",
     "output_type": "stream",
     "text": [
      "0.5\n"
     ]
    }
   ],
   "source": [
    "print(a/b)  #division"
   ]
  },
  {
   "cell_type": "markdown",
   "id": "f3e53e35",
   "metadata": {},
   "source": [
    "## 3. Write a Python program to find the area of a triangle?\n"
   ]
  },
  {
   "cell_type": "code",
   "execution_count": 5,
   "id": "23f74906",
   "metadata": {},
   "outputs": [],
   "source": [
    "l = 10 # lenth_of_triangle = l\n",
    "w = 20 # width_of_triangle = w\n",
    "area_of_triangle = l*w"
   ]
  },
  {
   "cell_type": "code",
   "execution_count": 6,
   "id": "d0ba1056",
   "metadata": {},
   "outputs": [
    {
     "name": "stdout",
     "output_type": "stream",
     "text": [
      "200\n"
     ]
    }
   ],
   "source": [
    "print(area_of_triangle)"
   ]
  },
  {
   "cell_type": "markdown",
   "id": "b624511b",
   "metadata": {},
   "source": [
    "## 4. Write a Python program to swap two variables?\n"
   ]
  },
  {
   "cell_type": "code",
   "execution_count": 8,
   "id": "d4163cc3",
   "metadata": {},
   "outputs": [],
   "source": [
    "a = 10\n",
    "b = 20\n",
    "temp = a\n",
    "a = b\n",
    "b= temp"
   ]
  },
  {
   "cell_type": "code",
   "execution_count": 9,
   "id": "7c6bf9d3",
   "metadata": {},
   "outputs": [
    {
     "name": "stdout",
     "output_type": "stream",
     "text": [
      "20\n",
      "10\n"
     ]
    }
   ],
   "source": [
    "print(a) # 10\n",
    "print(b) # 20"
   ]
  },
  {
   "cell_type": "markdown",
   "id": "cbd62b05",
   "metadata": {},
   "source": [
    "## 5. Write a Python program to generate a random number?\n"
   ]
  },
  {
   "cell_type": "code",
   "execution_count": 11,
   "id": "d7cfe131",
   "metadata": {},
   "outputs": [
    {
     "name": "stdout",
     "output_type": "stream",
     "text": [
      "15\n"
     ]
    }
   ],
   "source": [
    "import random\n",
    "x = random.randint(0,20)\n",
    "print(x)"
   ]
  }
 ],
 "metadata": {
  "kernelspec": {
   "display_name": "Python 3 (ipykernel)",
   "language": "python",
   "name": "python3"
  },
  "language_info": {
   "codemirror_mode": {
    "name": "ipython",
    "version": 3
   },
   "file_extension": ".py",
   "mimetype": "text/x-python",
   "name": "python",
   "nbconvert_exporter": "python",
   "pygments_lexer": "ipython3",
   "version": "3.12.4"
  }
 },
 "nbformat": 4,
 "nbformat_minor": 5
}
