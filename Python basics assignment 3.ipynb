{
 "cells": [
  {
   "cell_type": "markdown",
   "id": "42765d7b",
   "metadata": {},
   "source": [
    "### 1. Why are functions advantageous to have in your programs?"
   ]
  },
  {
   "cell_type": "markdown",
   "id": "255e4f68",
   "metadata": {},
   "source": [
    "Ans. Because with the help of functions, we can avoid rewriting the same logic or code again and again in a program.\n",
    "In a single Program, we can call Python functions anywhere and also call multiple times."
   ]
  },
  {
   "cell_type": "markdown",
   "id": "82774a5d",
   "metadata": {},
   "source": [
    "### 2. When does the code in a function run: when it's specified or when it's called?"
   ]
  },
  {
   "cell_type": "markdown",
   "id": "b6f62140",
   "metadata": {},
   "source": [
    "Ans. Function runs in a code when its called."
   ]
  },
  {
   "cell_type": "markdown",
   "id": "805049fa",
   "metadata": {},
   "source": [
    "### 3. What statement creates a function?"
   ]
  },
  {
   "cell_type": "markdown",
   "id": "f26c6eb8",
   "metadata": {},
   "source": [
    "Ans. def statement"
   ]
  },
  {
   "cell_type": "markdown",
   "id": "5474973d",
   "metadata": {},
   "source": [
    "### 4. What is the difference between a function and a function call?"
   ]
  },
  {
   "cell_type": "markdown",
   "id": "80b03a0c",
   "metadata": {},
   "source": [
    "Ans. A function is a block of code or instructions which are assigned to the function definiton to perform a particular operation and returns a result.\n",
    "A function call is the code used to pass control to function."
   ]
  },
  {
   "cell_type": "markdown",
   "id": "1f654931",
   "metadata": {},
   "source": [
    "### 5. How many global scopes are there in a Python program? How many local scopes?"
   ]
  },
  {
   "cell_type": "markdown",
   "id": "44d6eece",
   "metadata": {},
   "source": [
    "Ans. In a Python program, there is only one global scope, which is created when the program starts executing. This global scope can be accessed from any part of the program and contains all the variables and functions defined at the top level of the program.\n",
    "\n",
    "The number of local scopes in a Python program depends on how many functions are called during the execution of the program."
   ]
  },
  {
   "cell_type": "markdown",
   "id": "7e9e4822",
   "metadata": {},
   "source": [
    "### 6. What happens to variables in a local scope when the function call returns?"
   ]
  },
  {
   "cell_type": "markdown",
   "id": "fd4dfab7",
   "metadata": {},
   "source": [
    "Ans. Each call of the function creates new local variables, and their lifetimes expire when the function returns to the caller."
   ]
  },
  {
   "cell_type": "markdown",
   "id": "fffe0500",
   "metadata": {},
   "source": [
    "### 7. What is the concept of a return value? Is it possible to have a return value in an expression?\n"
   ]
  },
  {
   "cell_type": "markdown",
   "id": "f2b65ffb",
   "metadata": {},
   "source": [
    "Ans. A return value is the value that a function or method returns to the caller after it has finished executing. When a function is called, it performs some operation and returns a value to the caller, which can then be used for further processing or stored in a variable.\n",
    "yes, It is possible to have a return value in an expression. In this case, the return value is used as part of a larger expression. "
   ]
  },
  {
   "cell_type": "markdown",
   "id": "d905478e",
   "metadata": {},
   "source": [
    "### 8. If a function does not have a return statement, what is the return value of a call to that function?\n"
   ]
  },
  {
   "cell_type": "markdown",
   "id": "6f2d4816",
   "metadata": {},
   "source": [
    "Ans. If a function does not have a return statement, the return value of a call to that function will be 'None'. "
   ]
  },
  {
   "cell_type": "markdown",
   "id": "1d79bf4d",
   "metadata": {},
   "source": [
    "### 9. How do you make a function variable refer to the global variable?\n"
   ]
  },
  {
   "cell_type": "markdown",
   "id": "a5f392d9",
   "metadata": {},
   "source": [
    "Ans. We can use the 'global' keyword to indicate that a variable inside a function should refer to the global variable with the same name. This allows you to modify the global variable from inside the function."
   ]
  },
  {
   "cell_type": "markdown",
   "id": "fb3e2665",
   "metadata": {},
   "source": [
    "### 10. What is the data type of None?\n"
   ]
  },
  {
   "cell_type": "markdown",
   "id": "a3186279",
   "metadata": {},
   "source": [
    "Ans. The data type of None is 'NoneType'."
   ]
  },
  {
   "cell_type": "markdown",
   "id": "5e5e4d7f",
   "metadata": {},
   "source": [
    "### 11. What does the sentence import areallyourpetsnamederic do?"
   ]
  },
  {
   "cell_type": "markdown",
   "id": "6b5c1577",
   "metadata": {},
   "source": [
    "Ans. That import statement imports a module named areallyourpetsnamederic."
   ]
  },
  {
   "cell_type": "markdown",
   "id": "f4eccfc0",
   "metadata": {},
   "source": [
    "### 12. If you had a bacon() feature in a spam module, what would you call it after importing spam?"
   ]
  },
  {
   "cell_type": "markdown",
   "id": "4ab8d601",
   "metadata": {},
   "source": [
    "Ans. We can call it by using the dot notation like -\n",
    "spam.bacon()"
   ]
  },
  {
   "cell_type": "markdown",
   "id": "9c9075c6",
   "metadata": {},
   "source": [
    "### 13. What can you do to save a programme from crashing if it encounters an error?"
   ]
  },
  {
   "cell_type": "markdown",
   "id": "6e5f2dd4",
   "metadata": {},
   "source": [
    "Ans. We can use the try-except statement to catch and handle errors in your program. This allows us to handle errors gracefully and continue executing the program even if an error occurs."
   ]
  },
  {
   "cell_type": "markdown",
   "id": "955e4714",
   "metadata": {},
   "source": [
    "### 14. What is the purpose of the try clause? What is the purpose of the except clause?"
   ]
  },
  {
   "cell_type": "markdown",
   "id": "30ee23b8",
   "metadata": {},
   "source": [
    "Ans. The purpose of the try clause is to specify a block of code that may raise an exception. The code inside the try block is executed normally, and if an exception is raised during the execution of the block, Python stops executing the code inside the block and proceeds to the except block.\n",
    "\n",
    "The purpose of the except clause is to specify a block of code that should be executed if an exception is raised in the try block. The code inside the except block is executed only if an exception occurs, and it can be used to handle the exception in a way that prevents the program from crashing."
   ]
  }
 ],
 "metadata": {
  "kernelspec": {
   "display_name": "Python 3 (ipykernel)",
   "language": "python",
   "name": "python3"
  },
  "language_info": {
   "codemirror_mode": {
    "name": "ipython",
    "version": 3
   },
   "file_extension": ".py",
   "mimetype": "text/x-python",
   "name": "python",
   "nbconvert_exporter": "python",
   "pygments_lexer": "ipython3",
   "version": "3.9.12"
  }
 },
 "nbformat": 4,
 "nbformat_minor": 5
}
