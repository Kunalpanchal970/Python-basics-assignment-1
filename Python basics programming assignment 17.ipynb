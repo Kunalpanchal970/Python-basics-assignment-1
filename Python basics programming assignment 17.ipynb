{
 "cells": [
  {
   "cell_type": "markdown",
   "id": "88bf334b",
   "metadata": {},
   "source": [
    "## 1. Create a function that takes three arguments a, b, c and returns the sum of the numbers that are evenly divided by c from the range a, b inclusive.\n",
    "Examples\n",
    "evenly_divisible(1, 10, 20) ➞ 0\n",
    "### No number between 1 and 10 can be evenly divided by 20.\n",
    "\n",
    "evenly_divisible(1, 10, 2) ➞ 30\n",
    "### 2 + 4 + 6 + 8 + 10 = 30\n",
    "\n",
    "evenly_divisible(1, 10, 3) ➞ 18\n",
    "### 3 + 6 + 9 = 18\n",
    "\n"
   ]
  },
  {
   "cell_type": "code",
   "execution_count": 10,
   "id": "a0bb7e26",
   "metadata": {},
   "outputs": [
    {
     "name": "stdout",
     "output_type": "stream",
     "text": [
      "(1, 10, 20) ➞ 0\n",
      "(1, 10, 2) ➞ 30\n",
      "(1, 10, 3) ➞ 18\n"
     ]
    }
   ],
   "source": [
    "def evenDivisible(a,b,c):\n",
    "    divList = []\n",
    "    for i in range(a,b+1):\n",
    "        if i%c == 0:\n",
    "            divList.append(i)\n",
    "    print(f'{a,b,c} ➞ {sum(divList)}')\n",
    "\n",
    "evenDivisible(1,10,20)\n",
    "evenDivisible(1,10,2)\n",
    "evenDivisible(1,10,3)"
   ]
  },
  {
   "cell_type": "markdown",
   "id": "3e88483e",
   "metadata": {},
   "source": [
    "## 2. Create a function that returns True if a given inequality expression is correct and False otherwise.\n",
    "### Examples:\n",
    "correct_signs(\"3 < 7 < 11\") ➞ True\n",
    "\n",
    "correct_signs(\"13 > 44 > 33 > 1\") ➞ False\n",
    "\n",
    "correct_signs(\"1 < 2 < 6 < 9 > 3\") ➞ True\n"
   ]
  },
  {
   "cell_type": "code",
   "execution_count": 11,
   "id": "e62dcc66",
   "metadata": {},
   "outputs": [
    {
     "name": "stdout",
     "output_type": "stream",
     "text": [
      "True\n",
      "False\n",
      "True\n"
     ]
    }
   ],
   "source": [
    "def check_equality(s):\n",
    "    regrex = eval(s)\n",
    "    if regrex :\n",
    "        return True\n",
    "    else:\n",
    "        return False\n",
    "\n",
    "print(check_equality(\"3 < 7 < 11\"))\n",
    "print(check_equality(\"13 > 44 > 33 > 1\"))\n",
    "print(check_equality(\"1 < 2 < 6 < 9 > 3\"))\n"
   ]
  },
  {
   "cell_type": "markdown",
   "id": "a4640692",
   "metadata": {},
   "source": [
    "## 3. Create a function that replaces all the vowels in a string with a specified character.\n",
    "### Examples:\n",
    "replace_vowels(\"the aardvark\", \"#\") ➞ \"th# ##rdv#rk\"\n",
    "\n",
    "replace_vowels(\"minnie mouse\", \"?\") ➞ \"m?nn?? m??s?\"\n",
    "\n",
    "replace_vowels(\"shakespeare\", \"*\") ➞ \"sh*k*sp**r*\"\n",
    "\n"
   ]
  },
  {
   "cell_type": "code",
   "execution_count": 14,
   "id": "f18b5a6c",
   "metadata": {},
   "outputs": [
    {
     "name": "stdout",
     "output_type": "stream",
     "text": [
      "String: the aardvark\n",
      "Enter a replacement character: #\n",
      "After replacing vowels with the specified character: th# ##rdv#rk\n",
      "String: minnie mouse\n",
      "Enter a replacement character: ?\n",
      "After replacing vowels with the specified character: m?nn?? m??s?\n",
      "String: shakespeare\n",
      "Enter a replacement character: *\n",
      "After replacing vowels with the specified character: sh*k*sp**r*\n"
     ]
    }
   ],
   "source": [
    "def replace_vowels_with_char(string,char):\n",
    "    vowels = ['a','e','i','o','u','A','E','I','O','U']\n",
    "    for i in vowels:\n",
    "        string = string.replace(i, char)\n",
    "    return string\n",
    "\n",
    "for i in range(3):\n",
    "    string = input(\"String: \")\n",
    "    char = input(\"Enter a replacement character: \")\n",
    "    print(\"After replacing vowels with the specified character:\", replace_vowels_with_char(string,char))\n",
    "  "
   ]
  },
  {
   "cell_type": "markdown",
   "id": "185183ef",
   "metadata": {},
   "source": [
    "## 4. Write a function that calculates the factorial of a number recursively.\n",
    "### Examples:\n",
    "factorial(5) ➞ 120\n",
    "\n",
    "factorial(3) ➞ 6\n",
    "\n",
    "factorial(1) ➞ 1\n",
    "\n",
    "factorial(0) ➞ 1\n",
    "\n"
   ]
  },
  {
   "cell_type": "code",
   "execution_count": 21,
   "id": "4c854c3c",
   "metadata": {},
   "outputs": [
    {
     "name": "stdout",
     "output_type": "stream",
     "text": [
      "Enter a factorial number:5\n",
      "factorial(n): ➞ 120\n",
      "Enter a factorial number:3\n",
      "factorial(n): ➞ 6\n",
      "Enter a factorial number:1\n",
      "factorial(n): ➞ 1\n",
      "Enter a factorial number:0\n",
      "factorial(n): ➞ 1\n"
     ]
    }
   ],
   "source": [
    "def factorial(n):\n",
    "    if n==0:\n",
    "        return 1\n",
    "    return n*factorial(n-1)\n",
    "\n",
    "for i in range(4):\n",
    "    n = int(input('Enter a factorial number:'))\n",
    "    print(f'factorial(n): ➞ {factorial(n)}')"
   ]
  },
  {
   "cell_type": "markdown",
   "id": "2183980f",
   "metadata": {},
   "source": [
    "## 5. Hamming distance is the number of characters that differ between two strings.\n",
    "To illustrate:\n",
    "\n",
    "String1: \"abcbba\"\n",
    "\n",
    "String2: \"abcbda\"\n",
    "\n",
    "Hamming Distance: 1 - \"b\" vs. \"d\" is the only difference.\n",
    "\n",
    "Create a function that computes the hamming distance between two strings.\n",
    "\n",
    "### Examples:\n",
    "hamming_distance(\"abcde\", \"bcdef\") ➞ 5\n",
    "\n",
    "hamming_distance(\"abcde\", \"abcde\") ➞ 0\n",
    "\n",
    "hamming_distance(\"strong\", \"strung\") ➞ 1\n",
    "\n"
   ]
  },
  {
   "cell_type": "code",
   "execution_count": 27,
   "id": "e8434175",
   "metadata": {},
   "outputs": [
    {
     "name": "stdout",
     "output_type": "stream",
     "text": [
      "Enter String_1:abcde\n",
      "Enter String_2:bcdef\n",
      "Hamming Distance between abcde and bcdef ➞ 5\n",
      "Enter String_1:abcde\n",
      "Enter String_2:abcde\n",
      "Hamming Distance between abcde and abcde ➞ 0\n",
      "Enter String_1:strong\n",
      "Enter String_2:strung\n",
      "Hamming Distance between strong and strung ➞ 1\n"
     ]
    }
   ],
   "source": [
    "def hamming_distance():\n",
    "    s1 = input('Enter String_1:')\n",
    "    s2 = input('Enter String_2:')\n",
    "    if len(s1) == len(s2):\n",
    "        count = 0\n",
    "        for i in range(len(s1)):\n",
    "            if s1[i] != s2[i]:\n",
    "                count = count+1\n",
    "        print(f'Hamming Distance between {s1} and {s2} ➞ {count}')\n",
    "    else:\n",
    "        print('Both String must be of same lenght.')\n",
    "        \n",
    "for i in range(3):\n",
    "    hamming_distance()"
   ]
  },
  {
   "cell_type": "code",
   "execution_count": null,
   "id": "96c8cd08",
   "metadata": {},
   "outputs": [],
   "source": []
  }
 ],
 "metadata": {
  "kernelspec": {
   "display_name": "Python 3 (ipykernel)",
   "language": "python",
   "name": "python3"
  },
  "language_info": {
   "codemirror_mode": {
    "name": "ipython",
    "version": 3
   },
   "file_extension": ".py",
   "mimetype": "text/x-python",
   "name": "python",
   "nbconvert_exporter": "python",
   "pygments_lexer": "ipython3",
   "version": "3.12.4"
  }
 },
 "nbformat": 4,
 "nbformat_minor": 5
}
