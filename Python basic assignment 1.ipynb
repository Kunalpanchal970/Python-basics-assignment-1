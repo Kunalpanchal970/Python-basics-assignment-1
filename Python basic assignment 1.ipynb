{
 "cells": [
  {
   "cell_type": "markdown",
   "id": "5f6cf478",
   "metadata": {},
   "source": [
    "###  1. In the below elements which of them are values or an expression? eg:- values can be integer or string and expressions will be mathematical operators.\n",
    "\n",
    "*\n",
    "'hello' \n",
    "-87.8 \n",
    "-\n",
    "/ \n",
    "+\n",
    "6 "
   ]
  },
  {
   "cell_type": "markdown",
   "id": "1477bc37",
   "metadata": {},
   "source": [
    "Values are 'hello'  -87.8  6\n",
    "\n",
    "Expressions are * - / +\n"
   ]
  },
  {
   "cell_type": "markdown",
   "id": "8de57ce9",
   "metadata": {},
   "source": [
    "### 2. What is the difference between string and variable?"
   ]
  },
  {
   "cell_type": "markdown",
   "id": "cd5f2cc8",
   "metadata": {},
   "source": [
    "String is any kind of data or value usually enclosed by (\"\") or ('') .\n",
    "\n",
    "Variables are references which we create to give it some value of any data type."
   ]
  },
  {
   "cell_type": "markdown",
   "id": "34f42608",
   "metadata": {},
   "source": [
    "### 3. Describe three different data types."
   ]
  },
  {
   "cell_type": "markdown",
   "id": "0e211bb5",
   "metadata": {},
   "source": [
    "Three diffrent data types - \n",
    "1. numeric - integer, float and complex\n",
    "2. string \n",
    "3. boolean"
   ]
  },
  {
   "cell_type": "markdown",
   "id": "4edc2ab1",
   "metadata": {},
   "source": [
    "### 4. What is an expression made up of? What do all expressions do?"
   ]
  },
  {
   "cell_type": "markdown",
   "id": "a89a4911",
   "metadata": {},
   "source": [
    "Expression is made up of operators and operands. Expressions do mathematical operation between operands used in a code with different type of operators to produce some other value. "
   ]
  },
  {
   "cell_type": "markdown",
   "id": "20dfbf92",
   "metadata": {},
   "source": [
    "### 5. This assignment statements, like spam = 10. What is the difference between an expression and a statement?"
   ]
  },
  {
   "cell_type": "markdown",
   "id": "f28483f4",
   "metadata": {},
   "source": [
    "In an expression, we do mathematical operations of some values which gives some other value while in statement we are assigning some value to a word so that, we can use that value later in an expression."
   ]
  },
  {
   "cell_type": "markdown",
   "id": "c7bacb3e",
   "metadata": {},
   "source": [
    "### 6. After running the following code, what does the variable bacon contain?\n",
    "\n",
    "bacon = 22\n",
    "\n",
    "bacon + 1"
   ]
  },
  {
   "cell_type": "markdown",
   "id": "1fa9feb7",
   "metadata": {},
   "source": [
    "After running this code, variable bacon still gives same value of 22 because we didnt assign 2nd code to the variable."
   ]
  },
  {
   "cell_type": "code",
   "execution_count": 3,
   "id": "767f75ea",
   "metadata": {},
   "outputs": [
    {
     "data": {
      "text/plain": [
       "22"
      ]
     },
     "execution_count": 3,
     "metadata": {},
     "output_type": "execute_result"
    }
   ],
   "source": [
    "bacon = 22\n",
    "\n",
    "bacon + 1\n",
    "\n",
    "bacon \n"
   ]
  },
  {
   "cell_type": "markdown",
   "id": "5f1fcde9",
   "metadata": {},
   "source": [
    "### 7. What should the values of the following two terms be?\n",
    "'spam' + 'spamspam'\n",
    "\n",
    "'spam' * 3"
   ]
  },
  {
   "cell_type": "markdown",
   "id": "9defd383",
   "metadata": {},
   "source": [
    "Same value for both term - \n",
    "\n",
    "'spamspamspam'"
   ]
  },
  {
   "cell_type": "markdown",
   "id": "b65747cd",
   "metadata": {},
   "source": [
    "### 8. Why is eggs a valid variable name while 100 is invalid?"
   ]
  },
  {
   "cell_type": "markdown",
   "id": "392145c4",
   "metadata": {},
   "source": [
    "Beacause variable names should start with numbers. It should always start with an alphabet."
   ]
  },
  {
   "cell_type": "markdown",
   "id": "abf0bbc2",
   "metadata": {},
   "source": [
    "### 9. What three functions can be used to get the integer, floating-point number, or string version of a value?"
   ]
  },
  {
   "cell_type": "markdown",
   "id": "a48676d1",
   "metadata": {},
   "source": [
    "3 functions -\n",
    "\n",
    "int() \n",
    "\n",
    "\n",
    "float() \n",
    "\n",
    "str() "
   ]
  },
  {
   "cell_type": "code",
   "execution_count": 12,
   "id": "67c34f5b",
   "metadata": {},
   "outputs": [
    {
     "name": "stdout",
     "output_type": "stream",
     "text": [
      "100 100.0 100\n"
     ]
    }
   ],
   "source": [
    "# example \n",
    "value = 100\n",
    "print(int(value), float(value), str(value))"
   ]
  },
  {
   "cell_type": "markdown",
   "id": "262501ac",
   "metadata": {},
   "source": [
    "### 10. Why does this expression cause an error? How can you fix it?\n",
    "'I have eaten &#39; + 99 + &#39; burritos.'"
   ]
  },
  {
   "cell_type": "code",
   "execution_count": 13,
   "id": "642e88ef",
   "metadata": {},
   "outputs": [
    {
     "ename": "TypeError",
     "evalue": "can only concatenate str (not \"int\") to str",
     "output_type": "error",
     "traceback": [
      "\u001b[1;31m---------------------------------------------------------------------------\u001b[0m",
      "\u001b[1;31mTypeError\u001b[0m                                 Traceback (most recent call last)",
      "Input \u001b[1;32mIn [13]\u001b[0m, in \u001b[0;36m<cell line: 1>\u001b[1;34m()\u001b[0m\n\u001b[1;32m----> 1\u001b[0m \u001b[38;5;124;43m'\u001b[39;49m\u001b[38;5;124;43mI have eaten \u001b[39;49m\u001b[38;5;124;43m'\u001b[39;49m\u001b[43m \u001b[49m\u001b[38;5;241;43m+\u001b[39;49m\u001b[43m \u001b[49m\u001b[38;5;241;43m99\u001b[39;49m \u001b[38;5;241m+\u001b[39m \u001b[38;5;124m'\u001b[39m\u001b[38;5;124m burritos.\u001b[39m\u001b[38;5;124m'\u001b[39m\n",
      "\u001b[1;31mTypeError\u001b[0m: can only concatenate str (not \"int\") to str"
     ]
    }
   ],
   "source": [
    "'I have eaten ' + 99 + ' burritos.'"
   ]
  },
  {
   "cell_type": "markdown",
   "id": "75cd66a5",
   "metadata": {},
   "source": [
    "it shows error because we can not concatenate string and integer together in a single function."
   ]
  },
  {
   "cell_type": "code",
   "execution_count": 14,
   "id": "95c27d39",
   "metadata": {},
   "outputs": [
    {
     "data": {
      "text/plain": [
       "'I have eaten 99 burritos.'"
      ]
     },
     "execution_count": 14,
     "metadata": {},
     "output_type": "execute_result"
    }
   ],
   "source": [
    "# we can fix it by converting  99 into string by adding ('')\n",
    "'I have eaten ' + '99' + ' burritos.'"
   ]
  }
 ],
 "metadata": {
  "kernelspec": {
   "display_name": "Python 3 (ipykernel)",
   "language": "python",
   "name": "python3"
  },
  "language_info": {
   "codemirror_mode": {
    "name": "ipython",
    "version": 3
   },
   "file_extension": ".py",
   "mimetype": "text/x-python",
   "name": "python",
   "nbconvert_exporter": "python",
   "pygments_lexer": "ipython3",
   "version": "3.9.12"
  }
 },
 "nbformat": 4,
 "nbformat_minor": 5
}
