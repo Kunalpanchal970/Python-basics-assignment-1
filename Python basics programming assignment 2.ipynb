{
 "cells": [
  {
   "cell_type": "markdown",
   "id": "9313dbaf",
   "metadata": {},
   "source": [
    "# 1. Write a Python program to convert kilometers to miles?\n"
   ]
  },
  {
   "cell_type": "code",
   "execution_count": 4,
   "id": "2034c1cd",
   "metadata": {},
   "outputs": [
    {
     "name": "stdin",
     "output_type": "stream",
     "text": [
      "enter kilometers:  10\n"
     ]
    },
    {
     "name": "stdout",
     "output_type": "stream",
     "text": [
      "miles = 6.21371\n"
     ]
    }
   ],
   "source": [
    "km = float(input('enter kilometers: '))\n",
    "miles = km*0.621371\n",
    "print('miles =', miles)"
   ]
  },
  {
   "cell_type": "markdown",
   "id": "aa01c26e",
   "metadata": {},
   "source": [
    "# 2. Write a Python program to convert Celsius to Fahrenheit?"
   ]
  },
  {
   "cell_type": "code",
   "execution_count": 5,
   "id": "ce612287",
   "metadata": {},
   "outputs": [
    {
     "name": "stdin",
     "output_type": "stream",
     "text": [
      "Enter the temperature in celsius :  10\n"
     ]
    },
    {
     "name": "stdout",
     "output_type": "stream",
     "text": [
      " 10.00 C = 50.00 F \n"
     ]
    }
   ],
   "source": [
    "celsius = float(input(\"Enter the temperature in celsius : \"))\n",
    "fahrenheit = (celsius * 1.8) + 32\n",
    "print(\" %.2f C = %.2f F \" %(celsius, fahrenheit))"
   ]
  },
  {
   "cell_type": "markdown",
   "id": "f6827dd3",
   "metadata": {},
   "source": [
    "# 3. Write a Python program to display calendar?\n"
   ]
  },
  {
   "cell_type": "code",
   "execution_count": 6,
   "id": "7dd4103a",
   "metadata": {},
   "outputs": [
    {
     "name": "stdin",
     "output_type": "stream",
     "text": [
      "Enter the year : 1999\n",
      "Enter the month : 9\n"
     ]
    },
    {
     "name": "stdout",
     "output_type": "stream",
     "text": [
      "   September 1999\n",
      "Mo Tu We Th Fr Sa Su\n",
      "       1  2  3  4  5\n",
      " 6  7  8  9 10 11 12\n",
      "13 14 15 16 17 18 19\n",
      "20 21 22 23 24 25 26\n",
      "27 28 29 30\n",
      "\n"
     ]
    }
   ],
   "source": [
    "import calendar\n",
    "year = int(input(\"Enter the year :\"))\n",
    "month = int(input(\"Enter the month :\"))\n",
    "mycal = calendar.month(year,month)\n",
    "print(mycal)"
   ]
  },
  {
   "cell_type": "markdown",
   "id": "5c341470",
   "metadata": {},
   "source": [
    "# 4. Write a Python program to solve quadratic equation?\n"
   ]
  },
  {
   "cell_type": "code",
   "execution_count": 7,
   "id": "e501ec67",
   "metadata": {},
   "outputs": [
    {
     "name": "stdin",
     "output_type": "stream",
     "text": [
      "a: 2\n",
      "b: 5\n",
      "c: 7\n"
     ]
    },
    {
     "name": "stdout",
     "output_type": "stream",
     "text": [
      "no roots, delta < 0\n"
     ]
    }
   ],
   "source": [
    "import math\n",
    "a = float(input(\"a:\"))\n",
    "b = float(input(\"b:\"))\n",
    "c = float(input(\"c:\"))\n",
    "delta = math.pow(b,2)-(4*a*c)\n",
    "if delta >0:\n",
    "    #number of roots are 2\n",
    "    x1 = (((-b) + math.sqrt(delta)) / (2 * a))\n",
    "    x2 = (((-b) - math.sqrt(delta)) /(2 * a))\n",
    "    print(\"There are 2 roots:%f and %f\" % (x1, x2))\n",
    "elif delta== 0:\n",
    "        #number  of roots 1, rational and equal\n",
    "        x (-b)/2*a\n",
    "        print(\"There is one roots:\", x)\n",
    "else:\n",
    "            #number of roots 0, imaginary\n",
    "            print(\"no roots, delta < 0\")"
   ]
  },
  {
   "cell_type": "markdown",
   "id": "9299ca68",
   "metadata": {},
   "source": [
    "# 5.Write a Python program to swap two variables without temp variable?"
   ]
  },
  {
   "cell_type": "code",
   "execution_count": 8,
   "id": "9fcd5dca",
   "metadata": {},
   "outputs": [
    {
     "name": "stdin",
     "output_type": "stream",
     "text": [
      "Enter value x: 10\n",
      "Enter the value y: 20\n"
     ]
    },
    {
     "name": "stdout",
     "output_type": "stream",
     "text": [
      "after swappoing \n",
      " x= 10 y= 20\n",
      "Before swapping \n",
      " x= 20 y= 10\n"
     ]
    }
   ],
   "source": [
    "x = int(input('Enter value x:')) # 10\n",
    "y = int(input('Enter the value y:')) # 20\n",
    "print('after swappoing \\n x=',x, 'y=', y)\n",
    "x =x+y # 30\n",
    "y =x-y # 10\n",
    "x =x-y # 20\n",
    "print('Before swapping \\n x=', x, 'y=',y)"
   ]
  },
  {
   "cell_type": "code",
   "execution_count": null,
   "id": "fdc1a4ca",
   "metadata": {},
   "outputs": [],
   "source": []
  }
 ],
 "metadata": {
  "kernelspec": {
   "display_name": "Python 3 (ipykernel)",
   "language": "python",
   "name": "python3"
  },
  "language_info": {
   "codemirror_mode": {
    "name": "ipython",
    "version": 3
   },
   "file_extension": ".py",
   "mimetype": "text/x-python",
   "name": "python",
   "nbconvert_exporter": "python",
   "pygments_lexer": "ipython3",
   "version": "3.12.4"
  }
 },
 "nbformat": 4,
 "nbformat_minor": 5
}
